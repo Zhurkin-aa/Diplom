{
 "cells": [
  {
   "cell_type": "code",
   "execution_count": 26,
   "id": "85f27e3f-d493-4cc0-8dd8-ec9d503918ba",
   "metadata": {},
   "outputs": [],
   "source": [
    "import pandas \n",
    "import os \n",
    "import matplotlib.pyplot as plt \n",
    "from sklearn.preprocessing import OneHotEncoder\n",
    "import numpy as np\n",
    "from sklearn.preprocessing import MinMaxScaler\n",
    "from scipy import stats\n",
    "import random\n",
    "from sklearn.cluster import KMeans,DBSCAN,AgglomerativeClustering, SpectralClustering, MeanShift\n",
    "from sklearn.decomposition import PCA\n",
    "from sklearn.decomposition import TruncatedSVD"
   ]
  },
  {
   "cell_type": "code",
   "execution_count": 28,
   "id": "a6b43bf7-6143-4f46-b853-cc868a7fdd7c",
   "metadata": {},
   "outputs": [],
   "source": [
    "dataset = pandas.read_csv('new_dataset.csv')\n",
    "scores = list(np.array(dataset['Балл']))"
   ]
  },
  {
   "cell_type": "code",
   "execution_count": 29,
   "id": "fc1b691b-ece6-4e10-80c5-fc27934de36b",
   "metadata": {},
   "outputs": [],
   "source": [
    "names_for_clusterization = list(dataset.drop(['ЛогинОО', 'Балл'], axis=1).columns)\n",
    "other_names = ['ЛогинОО', 'Балл']"
   ]
  },
  {
   "cell_type": "code",
   "execution_count": 30,
   "id": "8880006c-c364-47cc-9215-a0d38fb4922e",
   "metadata": {},
   "outputs": [],
   "source": [
    "data_for_clust = np.array(dataset[names_for_clusterization]) "
   ]
  },
  {
   "cell_type": "code",
   "execution_count": 31,
   "id": "442e5932-92d2-473a-a1bb-b5c3379d6116",
   "metadata": {},
   "outputs": [],
   "source": [
    "data_not_for_clust = np.array(dataset[other_names]) "
   ]
  },
  {
   "cell_type": "code",
   "execution_count": 38,
   "id": "1004bb8d-5fea-4f06-b5e6-a60c6599fbef",
   "metadata": {},
   "outputs": [
    {
     "data": {
      "text/plain": [
       "(11221346, 92)"
      ]
     },
     "execution_count": 38,
     "metadata": {},
     "output_type": "execute_result"
    }
   ],
   "source": [
    "data_for_clust.shape"
   ]
  },
  {
   "cell_type": "markdown",
   "id": "5ce4a933-0293-4220-b244-44ff8938ff8f",
   "metadata": {},
   "source": [
    "#### Кластеризация \n",
    "#### Будем проверять гипотезы для альфа 0.001, 0.01, 0.05, 0.1, 0.2"
   ]
  },
  {
   "cell_type": "markdown",
   "id": "c4aad060-2deb-436b-93c7-05fc6da3d31a",
   "metadata": {},
   "source": [
    "##### Случайное создание подвыборки"
   ]
  },
  {
   "cell_type": "code",
   "execution_count": 8,
   "id": "e659ae9d-065a-4f03-9b3e-520bbc665623",
   "metadata": {},
   "outputs": [],
   "source": [
    "import random\n",
    "\n",
    "random.seed(10)"
   ]
  },
  {
   "cell_type": "code",
   "execution_count": 9,
   "id": "c0032ec9-a43d-4c6e-9adb-0e97d4c47cda",
   "metadata": {},
   "outputs": [],
   "source": [
    "# Создание случайной выборки размера alpha*n, где n- размер сета \n",
    "def get_random_samples(alpha):\n",
    "    \n",
    "    return random.sample(list(scores),round(len(scores)*alpha))\n",
    "\n"
   ]
  },
  {
   "cell_type": "code",
   "execution_count": 10,
   "id": "2665f595-3978-4f91-922e-a486d30311fa",
   "metadata": {},
   "outputs": [],
   "source": [
    "def get_metrics(f, alpha,  n = 100):\n",
    "\n",
    "    d_means, d_stds, d_medians =  [], [], [] \n",
    "    score_mean, score_stds, score_medians = np.mean(scores), np.std(scores), np.median(scores)\n",
    "    for i in range(n):\n",
    "        sample = f(alpha)\n",
    "\n",
    "        \n",
    "        d_means.append(abs(1 - (np.mean(sample) / np.mean(scores))))\n",
    "        d_stds.append(abs(1 - (np.std(sample) / np.std(scores))))\n",
    "        d_medians.append(abs(1 - (np.median(sample) / np.median(scores))))\n",
    "\n",
    "\n",
    "    return  np.mean(d_means), np.mean(d_stds), np.mean(d_medians), len(sample)"
   ]
  },
  {
   "cell_type": "code",
   "execution_count": 11,
   "id": "e1ad6995-f5a9-4a99-8b5b-38a0d0c371d7",
   "metadata": {},
   "outputs": [
    {
     "name": "stdout",
     "output_type": "stream",
     "text": [
      "CPU times: total: 29min 35s\n",
      "Wall time: 31min 8s\n"
     ]
    },
    {
     "data": {
      "text/plain": [
       "(0.00021508226939782936, 0.00020317624836898473, 0.0, 3366404)"
      ]
     },
     "execution_count": 11,
     "metadata": {},
     "output_type": "execute_result"
    }
   ],
   "source": [
    "%%time\n",
    "get_metrics(get_random_samples, 0.3)"
   ]
  },
  {
   "cell_type": "code",
   "execution_count": 12,
   "id": "8eaf59f5-e589-42c2-918f-0d0a84abc8d1",
   "metadata": {},
   "outputs": [
    {
     "name": "stdout",
     "output_type": "stream",
     "text": [
      "CPU times: total: 16min 44s\n",
      "Wall time: 17min 25s\n"
     ]
    },
    {
     "data": {
      "text/plain": [
       "(0.0003596150664478637, 0.00032898649522587807, 0.0, 1122135)"
      ]
     },
     "execution_count": 12,
     "metadata": {},
     "output_type": "execute_result"
    }
   ],
   "source": [
    "%%time \n",
    "get_metrics(get_random_samples, 0.1)"
   ]
  },
  {
   "cell_type": "code",
   "execution_count": 13,
   "id": "17e354d6-71cb-4a35-976e-d96f948ede2a",
   "metadata": {},
   "outputs": [
    {
     "name": "stdout",
     "output_type": "stream",
     "text": [
      "CPU times: total: 10min 37s\n",
      "Wall time: 11min 4s\n"
     ]
    },
    {
     "data": {
      "text/plain": [
       "(0.0013691729976636846, 0.0013565210626128655, 0.0, 112213)"
      ]
     },
     "execution_count": 13,
     "metadata": {},
     "output_type": "execute_result"
    }
   ],
   "source": [
    "%%time\n",
    "get_metrics(get_random_samples, 0.01)"
   ]
  },
  {
   "cell_type": "code",
   "execution_count": 14,
   "id": "78cb1abc-56b6-42c8-a28a-a7bc21dd5184",
   "metadata": {},
   "outputs": [
    {
     "name": "stdout",
     "output_type": "stream",
     "text": [
      "CPU times: total: 10min 3s\n",
      "Wall time: 10min 27s\n"
     ]
    },
    {
     "data": {
      "text/plain": [
       "(0.00400181705876228, 0.004464445405501987, 0.0025, 11221)"
      ]
     },
     "execution_count": 14,
     "metadata": {},
     "output_type": "execute_result"
    }
   ],
   "source": [
    "%%time \n",
    "get_metrics(get_random_samples, 0.001)"
   ]
  },
  {
   "cell_type": "code",
   "execution_count": 15,
   "id": "15f1d91e-03a6-46fe-b34f-58c70280b377",
   "metadata": {},
   "outputs": [
    {
     "name": "stdout",
     "output_type": "stream",
     "text": [
      "CPU times: total: 9min 57s\n",
      "Wall time: 10min 20s\n"
     ]
    },
    {
     "data": {
      "text/plain": [
       "(0.01302205182588486, 0.01353110640624337, 0.0203125, 1122)"
      ]
     },
     "execution_count": 15,
     "metadata": {},
     "output_type": "execute_result"
    }
   ],
   "source": [
    "%%time \n",
    "get_metrics(get_random_samples, 0.0001)"
   ]
  },
  {
   "cell_type": "code",
   "execution_count": 16,
   "id": "1f192110-1b9a-4382-8e83-f552825218f0",
   "metadata": {},
   "outputs": [
    {
     "name": "stdout",
     "output_type": "stream",
     "text": [
      "CPU times: total: 9min 57s\n",
      "Wall time: 10min 21s\n"
     ]
    },
    {
     "data": {
      "text/plain": [
       "(0.016555626060867995, 0.019644821892904923, 0.02125, 561)"
      ]
     },
     "execution_count": 16,
     "metadata": {},
     "output_type": "execute_result"
    }
   ],
   "source": [
    "%%time \n",
    "get_metrics(get_random_samples, 0.00005)"
   ]
  },
  {
   "cell_type": "code",
   "execution_count": 17,
   "id": "431fbb43-7c82-447d-aca6-9f13b555d6a6",
   "metadata": {},
   "outputs": [
    {
     "name": "stdout",
     "output_type": "stream",
     "text": [
      "CPU times: total: 9min 51s\n",
      "Wall time: 10min 16s\n"
     ]
    },
    {
     "data": {
      "text/plain": [
       "(0.049076439418212894, 0.05005851924475268, 0.0653125, 112)"
      ]
     },
     "execution_count": 17,
     "metadata": {},
     "output_type": "execute_result"
    }
   ],
   "source": [
    "%%time\n",
    "get_metrics(get_random_samples, 0.00001)"
   ]
  },
  {
   "cell_type": "code",
   "execution_count": 18,
   "id": "04a88293-3f26-4189-8869-d57a49ed4f69",
   "metadata": {},
   "outputs": [
    {
     "name": "stdout",
     "output_type": "stream",
     "text": [
      "CPU times: total: 9min 39s\n",
      "Wall time: 10min 6s\n"
     ]
    },
    {
     "data": {
      "text/plain": [
       "(0.06301598179737865, 0.06464917040927794, 0.1046875, 56)"
      ]
     },
     "execution_count": 18,
     "metadata": {},
     "output_type": "execute_result"
    }
   ],
   "source": [
    "%%time\n",
    "get_metrics(get_random_samples, 0.000005)"
   ]
  },
  {
   "cell_type": "code",
   "execution_count": 19,
   "id": "c1b6a9a9-f951-4156-a04b-1aa4afe57581",
   "metadata": {},
   "outputs": [
    {
     "name": "stdout",
     "output_type": "stream",
     "text": [
      "CPU times: total: 9min 41s\n",
      "Wall time: 10min 8s\n"
     ]
    },
    {
     "data": {
      "text/plain": [
       "(0.10162282488142627, 0.11506100588449147, 0.1525, 22)"
      ]
     },
     "execution_count": 19,
     "metadata": {},
     "output_type": "execute_result"
    }
   ],
   "source": [
    "%%time\n",
    "get_metrics(get_random_samples, 0.000002)"
   ]
  },
  {
   "cell_type": "code",
   "execution_count": 20,
   "id": "67ecaf80-600c-433f-a681-31620f9c8728",
   "metadata": {},
   "outputs": [
    {
     "name": "stdout",
     "output_type": "stream",
     "text": [
      "CPU times: total: 9min 40s\n",
      "Wall time: 10min 6s\n"
     ]
    },
    {
     "data": {
      "text/plain": [
       "(0.14180039143566991, 0.1536514836467334, 0.233125, 11)"
      ]
     },
     "execution_count": 20,
     "metadata": {},
     "output_type": "execute_result"
    }
   ],
   "source": [
    "%%time\n",
    "get_metrics(get_random_samples, 0.000001)"
   ]
  },
  {
   "cell_type": "code",
   "execution_count": 21,
   "id": "c790c941-f321-4a6e-9350-fa6a0ed9f754",
   "metadata": {},
   "outputs": [
    {
     "name": "stdout",
     "output_type": "stream",
     "text": [
      "CPU times: total: 9min 38s\n",
      "Wall time: 10min 3s\n"
     ]
    },
    {
     "data": {
      "text/plain": [
       "(0.18638848771252264, 0.21675860712607115, 0.264375, 6)"
      ]
     },
     "execution_count": 21,
     "metadata": {},
     "output_type": "execute_result"
    }
   ],
   "source": [
    "%%time\n",
    "get_metrics(get_random_samples, 0.0000005)"
   ]
  },
  {
   "cell_type": "markdown",
   "id": "38196ab9-0bc9-41b5-8196-a2cf4ec25d7d",
   "metadata": {},
   "source": [
    "### PCA"
   ]
  },
  {
   "cell_type": "code",
   "execution_count": 12,
   "id": "be3c9a9c-7b35-4fc2-b206-f41199f29d13",
   "metadata": {},
   "outputs": [],
   "source": [
    "pca = PCA(n_components=2)\n",
    "trans_data = pca.fit_transform(data_for_clust)"
   ]
  },
  {
   "cell_type": "code",
   "execution_count": 201,
   "id": "eae3798c-3b60-465e-a663-b154b407c9e1",
   "metadata": {},
   "outputs": [
    {
     "data": {
      "text/plain": [
       "array([0.3491326 , 0.17522551])"
      ]
     },
     "execution_count": 201,
     "metadata": {},
     "output_type": "execute_result"
    }
   ],
   "source": [
    "pca.explained_variance_ratio_"
   ]
  },
  {
   "cell_type": "code",
   "execution_count": 13,
   "id": "ce8a96be-6267-4b4e-91ae-306bee6a4c41",
   "metadata": {},
   "outputs": [
    {
     "data": {
      "text/plain": [
       "<matplotlib.collections.PathCollection at 0x2500a4c6b40>"
      ]
     },
     "execution_count": 13,
     "metadata": {},
     "output_type": "execute_result"
    },
    {
     "data": {
      "image/png": "[encoded data removed]",
      "text/plain": [
       "<Figure size 640x480 with 1 Axes>"
      ]
     },
     "metadata": {},
     "output_type": "display_data"
    }
   ],
   "source": [
    "plt.scatter(trans_data[:,0],trans_data[:,1])"
   ]
  },
  {
   "cell_type": "markdown",
   "id": "62bd5bb0-1b16-4ad3-b8e9-532e34cffc54",
   "metadata": {},
   "source": [
    "###### Можно 19 групп"
   ]
  },
  {
   "cell_type": "markdown",
   "id": "573c62cd-e264-43e6-a9cc-b79f8799bb75",
   "metadata": {},
   "source": [
    "### K-Means"
   ]
  },
  {
   "cell_type": "markdown",
   "id": "5b8db868-11bc-4eed-84ac-25ce5d0ab7c7",
   "metadata": {},
   "source": [
    "##### Для k = 19"
   ]
  },
  {
   "cell_type": "code",
   "execution_count": 40,
   "id": "bb4931da-e55c-4216-89e0-4431a2ba1f8d",
   "metadata": {},
   "outputs": [],
   "source": [
    "scores = np.array(dataset['Балл'])"
   ]
  },
  {
   "cell_type": "markdown",
   "id": "c94bbf40-48c2-4dee-8102-aeff338e023c",
   "metadata": {},
   "source": [
    "#### Описание кластеров для 7 кластеров"
   ]
  },
  {
   "cell_type": "code",
   "execution_count": 44,
   "id": "11072b9c-d991-4199-b02c-5b4950905d8d",
   "metadata": {},
   "outputs": [],
   "source": [
    "kmeans = KMeans(n_clusters=7, random_state=0,).fit(data_for_clust)\n",
    "preds = kmeans.predict(data_for_clust)"
   ]
  },
  {
   "cell_type": "code",
   "execution_count": 56,
   "id": "0359fab3-d863-440b-82a6-bb736afb0274",
   "metadata": {},
   "outputs": [],
   "source": [
    "dist_of_preds = {}\n",
    "for i in range(7): \n",
    "    dist_of_preds[i] = sum(preds == i) / 11221346"
   ]
  },
  {
   "cell_type": "code",
   "execution_count": 57,
   "id": "3dba7dc6-08f5-4abd-a948-26032b1d2a01",
   "metadata": {},
   "outputs": [
    {
     "data": {
      "text/plain": [
       "{0: 0.15142862540732635,\n",
       " 1: 0.10456945182868436,\n",
       " 2: 0.11384775052832342,\n",
       " 3: 0.15053711025397487,\n",
       " 4: 0.17961784620133806,\n",
       " 5: 0.17159545744334057,\n",
       " 6: 0.12840375833701234}"
      ]
     },
     "execution_count": 57,
     "metadata": {},
     "output_type": "execute_result"
    }
   ],
   "source": [
    "dist_of_preds"
   ]
  },
  {
   "cell_type": "code",
   "execution_count": 84,
   "id": "3e5921e9-d2c2-4d97-9ae5-02df7580e3dc",
   "metadata": {},
   "outputs": [
    {
     "data": {
      "text/plain": [
       "Класс\n",
       "5    5527165\n",
       "4    3086470\n",
       "6    2607711\n",
       "Name: count, dtype: int64"
      ]
     },
     "execution_count": 84,
     "metadata": {},
     "output_type": "execute_result"
    }
   ],
   "source": [
    "dataset['Класс'].value_counts()"
   ]
  },
  {
   "cell_type": "code",
   "execution_count": 86,
   "id": "dbe229ee-fc9a-4dac-9e8d-bcca1fdc9fff",
   "metadata": {},
   "outputs": [
    {
     "name": "stdout",
     "output_type": "stream",
     "text": [
      "МЕ для кластера с номером 1  = 13.861824717387197\n",
      "СТД для кластера с номером 1  = 2.537821836208626\n",
      "Медиана для кластера с номером 1  = 14.0\n",
      "---------------------------------------------------------------\n",
      "МЕ для кластера с номером 2  = 18.6280771426867\n",
      "СТД для кластера с номером 2  = 5.857029440435759\n",
      "Медиана для кластера с номером 2  = 20.0\n",
      "---------------------------------------------------------------\n",
      "МЕ для кластера с номером 3  = 32.194329660867695\n",
      "СТД для кластера с номером 3  = 5.274521932094993\n",
      "Медиана для кластера с номером 3  = 32.0\n",
      "---------------------------------------------------------------\n",
      "МЕ для кластера с номером 4  = 32.03000658880472\n",
      "СТД для кластера с номером 4  = 4.444955531790109\n",
      "Медиана для кластера с номером 4  = 32.0\n",
      "---------------------------------------------------------------\n",
      "МЕ для кластера с номером 5  = 7.177505539419931\n",
      "СТД для кластера с номером 5  = 2.881768200859208\n",
      "Медиана для кластера с номером 5  = 7.0\n",
      "---------------------------------------------------------------\n",
      "МЕ для кластера с номером 6  = 12.910364512249082\n",
      "СТД для кластера с номером 6  = 3.192649072523325\n",
      "Медиана для кластера с номером 6  = 13.0\n",
      "---------------------------------------------------------------\n",
      "МЕ для кластера с номером 7  = 17.15635490674686\n",
      "СТД для кластера с номером 7  = 6.2352362050569745\n",
      "Медиана для кластера с номером 7  = 18.0\n",
      "---------------------------------------------------------------\n"
     ]
    }
   ],
   "source": [
    "for i in list(set(preds)):\n",
    "    print(f'МЕ для кластера с номером {i+1}  = {np.mean(scores[preds==i])}' )\n",
    "    print(f'СТД для кластера с номером {i+1}  = {np.std(scores[preds==i])}' )\n",
    "    print(f'Медиана для кластера с номером {i+1}  = {np.median(scores[preds==i])}' )\n",
    "    print('---------------------------------------------------------------')\n",
    "        "
   ]
  },
  {
   "cell_type": "code",
   "execution_count": null,
   "id": "d59d697a-40d9-4d85-b28b-fc770ed40b7c",
   "metadata": {},
   "outputs": [],
   "source": []
  },
  {
   "cell_type": "code",
   "execution_count": null,
   "id": "88e242b9-dd58-4821-ae2b-ba31ca877a1d",
   "metadata": {},
   "outputs": [],
   "source": []
  },
  {
   "cell_type": "code",
   "execution_count": null,
   "id": "5d3c2391-c838-4285-9347-67e277d27676",
   "metadata": {},
   "outputs": [],
   "source": []
  },
  {
   "cell_type": "code",
   "execution_count": null,
   "id": "614ecb97-8220-44ed-be30-7c59da2b0d8e",
   "metadata": {},
   "outputs": [],
   "source": []
  },
  {
   "cell_type": "markdown",
   "id": "1fd90c77-10b1-44dc-b937-767881cc910b",
   "metadata": {},
   "source": [
    "#### 19 кластеров"
   ]
  },
  {
   "cell_type": "code",
   "execution_count": 18,
   "id": "17641f91-3a2e-4110-b81c-ceb44fc80cbc",
   "metadata": {},
   "outputs": [],
   "source": [
    "kmeans = KMeans(n_clusters=19, random_state=0,).fit(data_for_clust)\n",
    "preds = kmeans.predict(data_for_clust)"
   ]
  },
  {
   "cell_type": "code",
   "execution_count": 19,
   "id": "e8805f91-7583-4190-b551-514f809645cc",
   "metadata": {},
   "outputs": [
    {
     "name": "stderr",
     "output_type": "stream",
     "text": [
      "C:\\Users\\isazo\\anaconda3\\Lib\\site-packages\\IPython\\core\\pylabtools.py:170: UserWarning: Creating legend with loc=\"best\" can be slow with large amounts of data.\n",
      "  fig.canvas.print_figure(bytes_io, **kw)\n"
     ]
    },
    {
     "data": {
      "image/png": "[encoded data removed]",
      "text/plain": [
       "<Figure size 1200x1200 with 1 Axes>"
      ]
     },
     "metadata": {},
     "output_type": "display_data"
    }
   ],
   "source": [
    "plt.figure(figsize=(12,12))\n",
    "for i in list(set(preds)):\n",
    "    \n",
    "    plt.scatter(trans_data[preds==i,0],trans_data[preds==i,1],label=i)\n",
    "plt.legend()\n",
    "plt.show()"
   ]
  },
  {
   "cell_type": "code",
   "execution_count": 20,
   "id": "2786b7c4-ffd9-4f03-adf9-c03c805ced07",
   "metadata": {},
   "outputs": [],
   "source": [
    "dist_of_preds = {}\n",
    "for i in range(19): \n",
    "    dist_of_preds[i] = sum(preds == i) / 11221346"
   ]
  },
  {
   "cell_type": "code",
   "execution_count": 21,
   "id": "0e2fd15c-e132-4db3-8d7e-73d0059815a8",
   "metadata": {},
   "outputs": [],
   "source": [
    "def get_k_means_samples(alpha):\n",
    "\n",
    "    length = preds.shape[0]\n",
    "    size_of_sample = round(alpha * length)\n",
    "    \n",
    "\n",
    "    sample = []\n",
    "    \n",
    "    for i in range(len(list(set(preds)))):\n",
    "\n",
    "        sample = sample + list(random.sample(list(scores[preds==i]),round((size_of_sample*dist_of_preds[i]))))\n",
    "        \n",
    "    if len(sample) == size_of_sample:\n",
    "        \n",
    "        return sample\n",
    "    elif len(sample)<size_of_sample:\n",
    "\n",
    "        sample = sample + list(random.sample(list(scores), size_of_sample - len(sample)))\n",
    "        return sample\n",
    "\n",
    "    else:\n",
    "        \n",
    "        sample = sample[0:-(len(sample)-size_of_sample)]\n",
    "        return sample\n",
    "\n",
    "        \n"
   ]
  },
  {
   "cell_type": "code",
   "execution_count": 33,
   "id": "ebc2f4ce-999a-4f9f-b9a7-5aaa6fc64dfe",
   "metadata": {},
   "outputs": [
    {
     "name": "stdout",
     "output_type": "stream",
     "text": [
      "CPU times: total: 34min 38s\n",
      "Wall time: 36min 34s\n"
     ]
    },
    {
     "data": {
      "text/plain": [
       "(6.92461578815562e-05, 0.00012769137776021288, 0.0, 3366404)"
      ]
     },
     "execution_count": 33,
     "metadata": {},
     "output_type": "execute_result"
    }
   ],
   "source": [
    "%%time\n",
    "get_metrics(get_k_means_samples, 0.3,)"
   ]
  },
  {
   "cell_type": "code",
   "execution_count": 34,
   "id": "c5574aa0-ba09-4978-b3f8-89dba5b28470",
   "metadata": {},
   "outputs": [
    {
     "name": "stdout",
     "output_type": "stream",
     "text": [
      "CPU times: total: 18min 20s\n",
      "Wall time: 19min 11s\n"
     ]
    },
    {
     "data": {
      "text/plain": [
       "(0.0001330913144232393, 0.00026233758906009206, 0.0, 1122135)"
      ]
     },
     "execution_count": 34,
     "metadata": {},
     "output_type": "execute_result"
    }
   ],
   "source": [
    "%%time \n",
    "get_metrics(get_k_means_samples, 0.1,)"
   ]
  },
  {
   "cell_type": "code",
   "execution_count": 35,
   "id": "1afb3ff8-9b54-4a2f-8628-86269655e91b",
   "metadata": {},
   "outputs": [
    {
     "name": "stdout",
     "output_type": "stream",
     "text": [
      "CPU times: total: 10min 18s\n",
      "Wall time: 10min 46s\n"
     ]
    },
    {
     "data": {
      "text/plain": [
       "(0.000486159995895008, 0.0009380175242118671, 0.0, 112213)"
      ]
     },
     "execution_count": 35,
     "metadata": {},
     "output_type": "execute_result"
    }
   ],
   "source": [
    "%%time\n",
    "get_metrics(get_k_means_samples, 0.01,)"
   ]
  },
  {
   "cell_type": "code",
   "execution_count": 36,
   "id": "8fe9f78d-bf12-4494-bed1-515db4469717",
   "metadata": {},
   "outputs": [
    {
     "name": "stdout",
     "output_type": "stream",
     "text": [
      "CPU times: total: 9min 35s\n",
      "Wall time: 9min 59s\n"
     ]
    },
    {
     "data": {
      "text/plain": [
       "(0.001407905419351717, 0.002689342959139164, 0.0, 11221)"
      ]
     },
     "execution_count": 36,
     "metadata": {},
     "output_type": "execute_result"
    }
   ],
   "source": [
    "%%time\n",
    "get_metrics(get_k_means_samples, 0.001,)"
   ]
  },
  {
   "cell_type": "code",
   "execution_count": 37,
   "id": "92db1a61-21f0-4085-b3e4-8315e7d067c3",
   "metadata": {},
   "outputs": [
    {
     "name": "stdout",
     "output_type": "stream",
     "text": [
      "CPU times: total: 8min 56s\n",
      "Wall time: 9min 24s\n"
     ]
    },
    {
     "data": {
      "text/plain": [
       "(0.005189973861096826, 0.007805288709507433, 0.0109375, 1122)"
      ]
     },
     "execution_count": 37,
     "metadata": {},
     "output_type": "execute_result"
    }
   ],
   "source": [
    "%%time\n",
    "get_metrics(get_k_means_samples, 0.0001)"
   ]
  },
  {
   "cell_type": "code",
   "execution_count": 38,
   "id": "00eab6a7-6d16-4702-82db-11da89dc1889",
   "metadata": {},
   "outputs": [
    {
     "name": "stdout",
     "output_type": "stream",
     "text": [
      "CPU times: total: 12min 1s\n",
      "Wall time: 12min 40s\n"
     ]
    },
    {
     "data": {
      "text/plain": [
       "(0.007529851086566507, 0.010176499048302298, 0.01875, 561)"
      ]
     },
     "execution_count": 38,
     "metadata": {},
     "output_type": "execute_result"
    }
   ],
   "source": [
    "%%time\n",
    "get_metrics(get_k_means_samples, 0.00005)"
   ]
  },
  {
   "cell_type": "code",
   "execution_count": 39,
   "id": "139b8031-c0d6-4e8c-8906-3ac143009bca",
   "metadata": {},
   "outputs": [
    {
     "name": "stdout",
     "output_type": "stream",
     "text": [
      "CPU times: total: 9min 21s\n",
      "Wall time: 9min 46s\n"
     ]
    },
    {
     "data": {
      "text/plain": [
       "(0.015369567579023058, 0.024823844566244396, 0.0353125, 112)"
      ]
     },
     "execution_count": 39,
     "metadata": {},
     "output_type": "execute_result"
    }
   ],
   "source": [
    "%%time\n",
    "get_metrics(get_k_means_samples, 0.00001)"
   ]
  },
  {
   "cell_type": "code",
   "execution_count": 40,
   "id": "e1557705-3845-4f55-b53d-28a4c3d8de32",
   "metadata": {},
   "outputs": [
    {
     "name": "stdout",
     "output_type": "stream",
     "text": [
      "CPU times: total: 8min 19s\n",
      "Wall time: 8min 39s\n"
     ]
    },
    {
     "data": {
      "text/plain": [
       "(0.02416281840909445, 0.03354610185020577, 0.0478125, 56)"
      ]
     },
     "execution_count": 40,
     "metadata": {},
     "output_type": "execute_result"
    }
   ],
   "source": [
    "%%time \n",
    "get_metrics(get_k_means_samples, 0.000005)"
   ]
  },
  {
   "cell_type": "code",
   "execution_count": 41,
   "id": "b04a2ed7-cf60-4965-ad51-2faf266bcb59",
   "metadata": {},
   "outputs": [
    {
     "name": "stdout",
     "output_type": "stream",
     "text": [
      "CPU times: total: 10min 44s\n",
      "Wall time: 11min 9s\n"
     ]
    },
    {
     "data": {
      "text/plain": [
       "(0.053483653991416816, 0.0652714853401919, 0.0990625, 22)"
      ]
     },
     "execution_count": 41,
     "metadata": {},
     "output_type": "execute_result"
    }
   ],
   "source": [
    "%%time \n",
    "get_metrics(get_k_means_samples, 0.000002)"
   ]
  },
  {
   "cell_type": "code",
   "execution_count": 42,
   "id": "cd8bed46-0f0f-4e5c-b6f4-951f4f29a308",
   "metadata": {},
   "outputs": [
    {
     "name": "stdout",
     "output_type": "stream",
     "text": [
      "CPU times: total: 8min 18s\n",
      "Wall time: 8min 39s\n"
     ]
    },
    {
     "data": {
      "text/plain": [
       "(0.060342834279799175, 0.08341544948565575, 0.093125, 11)"
      ]
     },
     "execution_count": 42,
     "metadata": {},
     "output_type": "execute_result"
    }
   ],
   "source": [
    "%%time\n",
    "get_metrics(get_k_means_samples, 0.000001)"
   ]
  },
  {
   "cell_type": "code",
   "execution_count": 43,
   "id": "303d02d9-b736-4721-b8e6-14b5ad5169e8",
   "metadata": {},
   "outputs": [
    {
     "name": "stdout",
     "output_type": "stream",
     "text": [
      "CPU times: total: 10min 37s\n",
      "Wall time: 11min 9s\n"
     ]
    },
    {
     "data": {
      "text/plain": [
       "(0.16879712335530275, 0.2534444876595231, 0.2159375, 6)"
      ]
     },
     "execution_count": 43,
     "metadata": {},
     "output_type": "execute_result"
    }
   ],
   "source": [
    "%%time\n",
    "get_metrics(get_k_means_samples, 0.0000005)"
   ]
  },
  {
   "cell_type": "markdown",
   "id": "7a3ca2ae-5dcb-4f8c-a309-47a299ed7f58",
   "metadata": {},
   "source": [
    "#### DBSCAN"
   ]
  },
  {
   "cell_type": "code",
   "execution_count": 20,
   "id": "7bff8515-74f9-4ff2-9b20-fd9d6fca271f",
   "metadata": {},
   "outputs": [],
   "source": [
    "class My_DBSCAN(DBSCAN):\n",
    "    def predict(self,X):\n",
    "      return self.labels_.astype(int)"
   ]
  },
  {
   "cell_type": "code",
   "execution_count": 22,
   "id": "85f3b6b8-5557-4b8b-a173-89721ed99179",
   "metadata": {
    "scrolled": true
   },
   "outputs": [],
   "source": [
    "dbscan = My_DBSCAN(algorithm='ball_tree',)\n",
    "i=0\n",
    "while i<11221346 - 112213:\n",
    "    dbscan.fit(data_for_clust[i:i+112213,:])\n",
    "    i = i + 112213\n",
    "    \n"
   ]
  },
  {
   "cell_type": "code",
   "execution_count": 101,
   "id": "f2ab1f74-5f8c-47a2-9326-e0d277d7ffae",
   "metadata": {},
   "outputs": [],
   "source": [
    "i=0\n",
    "preds = []\n",
    "while i<11221346 - 112213:\n",
    "    preds = preds + list(dbscan.predict(data_for_clust[i:i+112213,:]))\n",
    "    i = i + 112213\n",
    "preds = preds + list(dbscan.fit_predict(data_for_clust[i:,:]))\n",
    "preds = np.array(preds)"
   ]
  },
  {
   "cell_type": "code",
   "execution_count": 102,
   "id": "9608b799-18d7-47fa-a28f-4fea68f9b644",
   "metadata": {},
   "outputs": [
    {
     "name": "stderr",
     "output_type": "stream",
     "text": [
      "C:\\Users\\isazo\\anaconda3\\Lib\\site-packages\\IPython\\core\\pylabtools.py:170: UserWarning: Creating legend with loc=\"best\" can be slow with large amounts of data.\n",
      "  fig.canvas.print_figure(bytes_io, **kw)\n"
     ]
    },
    {
     "data": {
      "image/png": "[encoded data removed]",
      "text/plain": [
       "<Figure size 1200x1200 with 1 Axes>"
      ]
     },
     "metadata": {},
     "output_type": "display_data"
    }
   ],
   "source": [
    "plt.figure(figsize=(12,12))\n",
    "for i in list(set(preds)):\n",
    "    \n",
    "    plt.scatter(trans_data[preds==i,0],trans_data[preds==i,1],label=i)\n",
    "plt.legend()\n",
    "plt.show()"
   ]
  },
  {
   "cell_type": "code",
   "execution_count": 114,
   "id": "17b49fc8-dd5d-4386-9779-b29ff83d711b",
   "metadata": {},
   "outputs": [],
   "source": [
    "dist_of_preds = {}\n",
    "for i in range(len(list(set(preds)))): \n",
    "    dist_of_preds[i] = sum(preds == i) / 11221346"
   ]
  },
  {
   "cell_type": "code",
   "execution_count": 115,
   "id": "e987c5df-4ee6-4071-a6fc-5b9bfb202892",
   "metadata": {},
   "outputs": [],
   "source": [
    "def get_dbscan_samples(alpha):\n",
    "\n",
    "    length = preds.shape[0]\n",
    "    size_of_sample = round(alpha * length)\n",
    "    \n",
    "\n",
    "    sample = []\n",
    "    \n",
    "    for i in range(len(list(set(preds)))):\n",
    "\n",
    "        sample = sample + list(random.sample(list(scores[preds==i]),round((size_of_sample*dist_of_preds[i]))))\n",
    "        \n",
    "    if len(sample) == size_of_sample:\n",
    "        \n",
    "        return sample\n",
    "    elif len(sample)<size_of_sample:\n",
    "\n",
    "        sample = sample + list(random.sample(list(scores), size_of_sample - len(sample)))\n",
    "        return sample\n",
    "\n",
    "    else:\n",
    "        \n",
    "        sample = sample[0:-(len(sample)-size_of_sample)]\n",
    "        return sample\n",
    "\n",
    "        \n"
   ]
  },
  {
   "cell_type": "code",
   "execution_count": 116,
   "id": "2359741c-98e3-47cd-a6b9-b1589e01a080",
   "metadata": {},
   "outputs": [
    {
     "name": "stdout",
     "output_type": "stream",
     "text": [
      "CPU times: total: 35min 43s\n",
      "Wall time: 37min 26s\n"
     ]
    },
    {
     "data": {
      "text/plain": [
       "(0.00021157882606165023, 0.00019052032635958783, 0.0, 3366404)"
      ]
     },
     "execution_count": 116,
     "metadata": {},
     "output_type": "execute_result"
    }
   ],
   "source": [
    "%%time\n",
    "get_metrics(get_dbscan_samples, 0.3,)"
   ]
  },
  {
   "cell_type": "code",
   "execution_count": 117,
   "id": "694d59f2-286e-4a8c-a8f8-f31739c9b412",
   "metadata": {},
   "outputs": [
    {
     "name": "stdout",
     "output_type": "stream",
     "text": [
      "CPU times: total: 19min 26s\n",
      "Wall time: 20min 20s\n"
     ]
    },
    {
     "data": {
      "text/plain": [
       "(0.00042936578625901945, 0.00040463770695064685, 0.0, 1122135)"
      ]
     },
     "execution_count": 117,
     "metadata": {},
     "output_type": "execute_result"
    }
   ],
   "source": [
    "%%time\n",
    "get_metrics(get_dbscan_samples, 0.1,)"
   ]
  },
  {
   "cell_type": "code",
   "execution_count": 118,
   "id": "2fc62460-2c68-47f1-9f6f-d8b9bf4d8fd6",
   "metadata": {},
   "outputs": [
    {
     "name": "stdout",
     "output_type": "stream",
     "text": [
      "CPU times: total: 10min 16s\n",
      "Wall time: 10min 47s\n"
     ]
    },
    {
     "data": {
      "text/plain": [
       "(0.0013038639235297632, 0.0014110618967937548, 0.0, 112213)"
      ]
     },
     "execution_count": 118,
     "metadata": {},
     "output_type": "execute_result"
    }
   ],
   "source": [
    "%%time\n",
    "get_metrics(get_dbscan_samples, 0.01,)"
   ]
  },
  {
   "cell_type": "code",
   "execution_count": 119,
   "id": "1bbb943b-16a4-4c7f-878d-f73b05a80138",
   "metadata": {},
   "outputs": [
    {
     "name": "stdout",
     "output_type": "stream",
     "text": [
      "CPU times: total: 9min 57s\n",
      "Wall time: 10min 25s\n"
     ]
    },
    {
     "data": {
      "text/plain": [
       "(0.004014477224231857, 0.004214148063044447, 0.0025, 11221)"
      ]
     },
     "execution_count": 119,
     "metadata": {},
     "output_type": "execute_result"
    }
   ],
   "source": [
    "%%time\n",
    "get_metrics(get_dbscan_samples, 0.001,)"
   ]
  },
  {
   "cell_type": "code",
   "execution_count": 120,
   "id": "b7b429c2-34e8-49c2-8928-cafe514cbf22",
   "metadata": {},
   "outputs": [
    {
     "name": "stdout",
     "output_type": "stream",
     "text": [
      "CPU times: total: 9min 29s\n",
      "Wall time: 9min 56s\n"
     ]
    },
    {
     "data": {
      "text/plain": [
       "(0.012630131087786274, 0.01562264080746626, 0.02125, 1122)"
      ]
     },
     "execution_count": 120,
     "metadata": {},
     "output_type": "execute_result"
    }
   ],
   "source": [
    "%%time\n",
    "get_metrics(get_dbscan_samples, 0.0001)"
   ]
  },
  {
   "cell_type": "code",
   "execution_count": 121,
   "id": "236acff9-195d-4ecc-ab27-a8179ac042cf",
   "metadata": {},
   "outputs": [
    {
     "name": "stdout",
     "output_type": "stream",
     "text": [
      "CPU times: total: 9min 28s\n",
      "Wall time: 9min 54s\n"
     ]
    },
    {
     "data": {
      "text/plain": [
       "(0.017492046755412397, 0.020182872730961924, 0.025625, 561)"
      ]
     },
     "execution_count": 121,
     "metadata": {},
     "output_type": "execute_result"
    }
   ],
   "source": [
    "%%time\n",
    "get_metrics(get_dbscan_samples, 0.00005)"
   ]
  },
  {
   "cell_type": "code",
   "execution_count": 122,
   "id": "d17b8671-aa1e-4257-ab5e-8d145abdd2e8",
   "metadata": {},
   "outputs": [
    {
     "name": "stdout",
     "output_type": "stream",
     "text": [
      "CPU times: total: 9min 33s\n",
      "Wall time: 9min 59s\n"
     ]
    },
    {
     "data": {
      "text/plain": [
       "(0.042580794397174285, 0.044159457560136506, 0.06625, 112)"
      ]
     },
     "execution_count": 122,
     "metadata": {},
     "output_type": "execute_result"
    }
   ],
   "source": [
    "%%time\n",
    "get_metrics(get_dbscan_samples, 0.00001)"
   ]
  },
  {
   "cell_type": "code",
   "execution_count": 123,
   "id": "f5001f14-733c-49e5-9cf6-3b871bba4c9b",
   "metadata": {},
   "outputs": [
    {
     "name": "stdout",
     "output_type": "stream",
     "text": [
      "CPU times: total: 12min 13s\n",
      "Wall time: 12min 47s\n"
     ]
    },
    {
     "data": {
      "text/plain": [
       "(0.058659738255778214, 0.05725749458929755, 0.085625, 56)"
      ]
     },
     "execution_count": 123,
     "metadata": {},
     "output_type": "execute_result"
    }
   ],
   "source": [
    "%%time\n",
    "get_metrics(get_dbscan_samples, 0.000005)"
   ]
  },
  {
   "cell_type": "code",
   "execution_count": 124,
   "id": "23b26ad2-efc9-47f9-be43-9e30c0904892",
   "metadata": {},
   "outputs": [
    {
     "name": "stdout",
     "output_type": "stream",
     "text": [
      "CPU times: total: 11min 31s\n",
      "Wall time: 12min 3s\n"
     ]
    },
    {
     "data": {
      "text/plain": [
       "(0.08796134786405041, 0.10247200227944876, 0.140625, 22)"
      ]
     },
     "execution_count": 124,
     "metadata": {},
     "output_type": "execute_result"
    }
   ],
   "source": [
    "%%time\n",
    "get_metrics(get_dbscan_samples, 0.000002)"
   ]
  },
  {
   "cell_type": "code",
   "execution_count": 125,
   "id": "db942f5f-53f3-4fbf-9b58-6816bddbc08f",
   "metadata": {},
   "outputs": [
    {
     "name": "stdout",
     "output_type": "stream",
     "text": [
      "CPU times: total: 11min 12s\n",
      "Wall time: 11min 41s\n"
     ]
    },
    {
     "data": {
      "text/plain": [
       "(0.14410215840099072, 0.1499106395736967, 0.19625, 11)"
      ]
     },
     "execution_count": 125,
     "metadata": {},
     "output_type": "execute_result"
    }
   ],
   "source": [
    "%%time\n",
    "get_metrics(get_dbscan_samples, 0.000001)"
   ]
  },
  {
   "cell_type": "code",
   "execution_count": 126,
   "id": "0760b856-0a5c-4dc5-9d58-6d601cb6a545",
   "metadata": {},
   "outputs": [
    {
     "name": "stdout",
     "output_type": "stream",
     "text": [
      "CPU times: total: 11min 33s\n",
      "Wall time: 12min 4s\n"
     ]
    },
    {
     "data": {
      "text/plain": [
       "(0.18188345225907113, 0.23948981568590952, 0.27375, 6)"
      ]
     },
     "execution_count": 126,
     "metadata": {},
     "output_type": "execute_result"
    }
   ],
   "source": [
    "%%time\n",
    "get_metrics(get_dbscan_samples, 0.0000005)"
   ]
  },
  {
   "cell_type": "markdown",
   "id": "046bdfb2-9474-4216-9e3d-d03e1bc8cdf3",
   "metadata": {},
   "source": [
    "#### PCA + KMeans на сжатых данных \n"
   ]
  },
  {
   "cell_type": "code",
   "execution_count": 77,
   "id": "ea528888-d6fe-4889-9004-65fe688d967f",
   "metadata": {},
   "outputs": [],
   "source": [
    "scores = np.array(dataset['Балл'])"
   ]
  },
  {
   "cell_type": "code",
   "execution_count": 79,
   "id": "41d932f8-ca3e-40da-9a4e-6755fb441577",
   "metadata": {},
   "outputs": [
    {
     "data": {
      "text/plain": [
       "<matplotlib.collections.PathCollection at 0x250198ab4a0>"
      ]
     },
     "execution_count": 79,
     "metadata": {},
     "output_type": "execute_result"
    },
    {
     "data": {
      "image/png": "[encoded data removed]",
      "text/plain": [
       "<Figure size 640x480 with 1 Axes>"
      ]
     },
     "metadata": {},
     "output_type": "display_data"
    }
   ],
   "source": [
    "plt.scatter(trans_data[:,0],trans_data[:,1])"
   ]
  },
  {
   "cell_type": "code",
   "execution_count": 81,
   "id": "56b0efc0-8d5c-4e31-aba4-5319d5df348c",
   "metadata": {},
   "outputs": [],
   "source": [
    "cluster_centers = np.array([\n",
    "                           [-3.2,-1.5],\n",
    "                           [-3.5, -0.8],\n",
    "                           [-3.8,-0.2],\n",
    "                           [-1.9,0.5],\n",
    "                           [-1.5,-0.25],\n",
    "                           [-1.4,-0.75],\n",
    "                           [-1.1,-1.5],\n",
    "                           [-0.9,0.75],\n",
    "                           [-0.5,0],\n",
    "                           [-0.3,-0.5],\n",
    "                           [-0.1,-1.25],\n",
    "                           [0,1.25],\n",
    "                           [0.5,0.35],\n",
    "                           [0.6,-0.25],\n",
    "                           [0.9,-1],\n",
    "                           [1,1.5],\n",
    "                           [1.3,0.65],\n",
    "                           [1.5,0.25],\n",
    "                           [1.8,-0.5],\n",
    "                           ])"
   ]
  },
  {
   "cell_type": "code",
   "execution_count": 83,
   "id": "2d149d10-88a8-4077-9836-9eb92b369a55",
   "metadata": {},
   "outputs": [],
   "source": [
    "kmeans = KMeans(n_clusters=19, random_state=0,init = cluster_centers).fit(trans_data)\n",
    "preds = kmeans.predict(trans_data)"
   ]
  },
  {
   "cell_type": "code",
   "execution_count": 87,
   "id": "07e4dbcd-7a57-4390-819d-578582a121c5",
   "metadata": {},
   "outputs": [],
   "source": [
    "colors = ['black',\n",
    "         'gray',\n",
    "         'brown',\n",
    "         'red',\n",
    "         'darkorange',\n",
    "         'tan',\n",
    "         'olive',\n",
    "         'yellow',\n",
    "         'darkolivegreen',\n",
    "         'darkseagreen',\n",
    "         'teal',\n",
    "         'dodgerblue',\n",
    "         'navy',\n",
    "         'indigo',\n",
    "         'fuchsia',\n",
    "         'deeppink',\n",
    "         'peru',\n",
    "         'slategray',\n",
    "         'pink',]"
   ]
  },
  {
   "cell_type": "code",
   "execution_count": 89,
   "id": "5f3fe193-d291-4573-b4f6-229604e6a3fe",
   "metadata": {},
   "outputs": [
    {
     "name": "stderr",
     "output_type": "stream",
     "text": [
      "C:\\Users\\isazo\\anaconda3\\Lib\\site-packages\\IPython\\core\\pylabtools.py:170: UserWarning: Creating legend with loc=\"best\" can be slow with large amounts of data.\n",
      "  fig.canvas.print_figure(bytes_io, **kw)\n"
     ]
    },
    {
     "data": {
      "image/png": "[encoded data removed]",
      "text/plain": [
       "<Figure size 1200x1200 with 1 Axes>"
      ]
     },
     "metadata": {},
     "output_type": "display_data"
    }
   ],
   "source": [
    "plt.figure(figsize=(12,12))\n",
    "for i in list(set(preds)):\n",
    "    \n",
    "    plt.scatter(trans_data[preds==i,0],trans_data[preds==i,1],label=i,color=colors[i])\n",
    "plt.legend()\n",
    "plt.show()"
   ]
  },
  {
   "cell_type": "code",
   "execution_count": 112,
   "id": "b66701ba-da4d-416b-955c-f2d04d46d0ca",
   "metadata": {},
   "outputs": [],
   "source": [
    "dist_of_preds = {}\n",
    "for i in range(len(list(set(preds)))): \n",
    "    dist_of_preds[i] = sum(preds == i) / 11221346"
   ]
  },
  {
   "cell_type": "code",
   "execution_count": 113,
   "id": "5d069eb1-8746-470f-9599-6f19120bcc19",
   "metadata": {},
   "outputs": [],
   "source": [
    "def get_k_means_samples(alpha):\n",
    "\n",
    "    length = preds.shape[0]\n",
    "    size_of_sample = round(alpha * length)\n",
    "    \n",
    "\n",
    "    sample = []\n",
    "    \n",
    "    for i in range(len(list(set(preds)))):\n",
    "\n",
    "        sample = sample + list(random.sample(list(scores[preds==i]),round((size_of_sample*dist_of_preds[i]))))\n",
    "        \n",
    "    if len(sample) == size_of_sample:\n",
    "        \n",
    "        return sample\n",
    "    elif len(sample)<size_of_sample:\n",
    "\n",
    "        sample = sample + list(random.sample(list(scores), size_of_sample - len(sample)))\n",
    "        return sample\n",
    "\n",
    "    else:\n",
    "        \n",
    "        sample = sample[0:-(len(sample)-size_of_sample)]\n",
    "        return sample\n",
    "\n",
    "        \n"
   ]
  },
  {
   "cell_type": "code",
   "execution_count": 114,
   "id": "1f99c9a2-4223-4b79-acd3-b3c81ca28827",
   "metadata": {},
   "outputs": [
    {
     "name": "stdout",
     "output_type": "stream",
     "text": [
      "CPU times: total: 31min 48s\n",
      "Wall time: 33min 18s\n"
     ]
    },
    {
     "data": {
      "text/plain": [
       "(0.00016198486457790428, 0.00019152493272448724, 0.0, 3366404)"
      ]
     },
     "execution_count": 114,
     "metadata": {},
     "output_type": "execute_result"
    }
   ],
   "source": [
    "%%time \n",
    "get_metrics(get_k_means_samples, 0.3,)"
   ]
  },
  {
   "cell_type": "code",
   "execution_count": 115,
   "id": "df148bb4-1bd3-4995-b067-3859f7ffce84",
   "metadata": {},
   "outputs": [
    {
     "name": "stdout",
     "output_type": "stream",
     "text": [
      "CPU times: total: 16min 30s\n",
      "Wall time: 17min 15s\n"
     ]
    },
    {
     "data": {
      "text/plain": [
       "(0.0003573636306186623, 0.00038373101556563705, 0.0, 1122135)"
      ]
     },
     "execution_count": 115,
     "metadata": {},
     "output_type": "execute_result"
    }
   ],
   "source": [
    "%%time\n",
    "get_metrics(get_k_means_samples, 0.1,)"
   ]
  },
  {
   "cell_type": "code",
   "execution_count": 116,
   "id": "1ef2b116-ff66-44b5-8ccb-62fd4f80cd9d",
   "metadata": {},
   "outputs": [
    {
     "name": "stdout",
     "output_type": "stream",
     "text": [
      "CPU times: total: 9min 29s\n",
      "Wall time: 9min 53s\n"
     ]
    },
    {
     "data": {
      "text/plain": [
       "(0.0010951180179685205, 0.0013455709664718463, 0.0, 112213)"
      ]
     },
     "execution_count": 116,
     "metadata": {},
     "output_type": "execute_result"
    }
   ],
   "source": [
    "%%time\n",
    "get_metrics(get_k_means_samples, 0.01,)"
   ]
  },
  {
   "cell_type": "code",
   "execution_count": 117,
   "id": "35014bb2-2a53-4464-8e97-1c4c43df5bbd",
   "metadata": {},
   "outputs": [
    {
     "name": "stdout",
     "output_type": "stream",
     "text": [
      "CPU times: total: 8min 34s\n",
      "Wall time: 8min 56s\n"
     ]
    },
    {
     "data": {
      "text/plain": [
       "(0.0036512002492387606, 0.004165578843548825, 0.00125, 11221)"
      ]
     },
     "execution_count": 117,
     "metadata": {},
     "output_type": "execute_result"
    }
   ],
   "source": [
    "%%time\n",
    "get_metrics(get_k_means_samples, 0.001,)"
   ]
  },
  {
   "cell_type": "code",
   "execution_count": 118,
   "id": "5081ea7a-f928-4915-b3d7-43a670ac6e99",
   "metadata": {},
   "outputs": [
    {
     "name": "stdout",
     "output_type": "stream",
     "text": [
      "CPU times: total: 8min 12s\n",
      "Wall time: 8min 32s\n"
     ]
    },
    {
     "data": {
      "text/plain": [
       "(0.010636389999704074, 0.012978940181397704, 0.0203125, 1122)"
      ]
     },
     "execution_count": 118,
     "metadata": {},
     "output_type": "execute_result"
    }
   ],
   "source": [
    "%%time\n",
    "get_metrics(get_k_means_samples, 0.0001)"
   ]
  },
  {
   "cell_type": "code",
   "execution_count": 119,
   "id": "d1ad5ab4-fe3d-45cf-b836-dae946ca9ba1",
   "metadata": {},
   "outputs": [
    {
     "name": "stdout",
     "output_type": "stream",
     "text": [
      "CPU times: total: 8min 9s\n",
      "Wall time: 8min 30s\n"
     ]
    },
    {
     "data": {
      "text/plain": [
       "(0.015325842252396988, 0.01574330143474818, 0.0275, 561)"
      ]
     },
     "execution_count": 119,
     "metadata": {},
     "output_type": "execute_result"
    }
   ],
   "source": [
    "%%time\n",
    "get_metrics(get_k_means_samples, 0.00005)"
   ]
  },
  {
   "cell_type": "code",
   "execution_count": 120,
   "id": "4f6c8801-f1a2-4629-b716-cd3794034fd7",
   "metadata": {},
   "outputs": [
    {
     "name": "stdout",
     "output_type": "stream",
     "text": [
      "CPU times: total: 8min 10s\n",
      "Wall time: 8min 32s\n"
     ]
    },
    {
     "data": {
      "text/plain": [
       "(0.03170670548814225, 0.04104819137303089, 0.0584375, 112)"
      ]
     },
     "execution_count": 120,
     "metadata": {},
     "output_type": "execute_result"
    }
   ],
   "source": [
    "%%time\n",
    "get_metrics(get_k_means_samples, 0.00001)"
   ]
  },
  {
   "cell_type": "code",
   "execution_count": 121,
   "id": "f5c74f72-a83c-4477-91d1-8b0245c7af0b",
   "metadata": {},
   "outputs": [
    {
     "name": "stdout",
     "output_type": "stream",
     "text": [
      "CPU times: total: 10min 31s\n",
      "Wall time: 11min 1s\n"
     ]
    },
    {
     "data": {
      "text/plain": [
       "(0.04909208545527062, 0.05452078104036568, 0.0834375, 56)"
      ]
     },
     "execution_count": 121,
     "metadata": {},
     "output_type": "execute_result"
    }
   ],
   "source": [
    "%%time\n",
    "get_metrics(get_k_means_samples, 0.000005)"
   ]
  },
  {
   "cell_type": "code",
   "execution_count": 122,
   "id": "6a0663f6-a45b-4d6b-9542-1f488c448f68",
   "metadata": {},
   "outputs": [
    {
     "name": "stdout",
     "output_type": "stream",
     "text": [
      "CPU times: total: 8min 12s\n",
      "Wall time: 8min 34s\n"
     ]
    },
    {
     "data": {
      "text/plain": [
       "(0.0799812952852525, 0.09893854547958535, 0.129375, 22)"
      ]
     },
     "execution_count": 122,
     "metadata": {},
     "output_type": "execute_result"
    }
   ],
   "source": [
    "%%time\n",
    "get_metrics(get_k_means_samples, 0.000002)"
   ]
  },
  {
   "cell_type": "code",
   "execution_count": 123,
   "id": "065fde80-1fc6-4bf0-b3ba-8792632e9a4f",
   "metadata": {},
   "outputs": [
    {
     "name": "stdout",
     "output_type": "stream",
     "text": [
      "CPU times: total: 10min 33s\n",
      "Wall time: 11min 2s\n"
     ]
    },
    {
     "data": {
      "text/plain": [
       "(0.13876363236014083, 0.16356561730848768, 0.241875, 11)"
      ]
     },
     "execution_count": 123,
     "metadata": {},
     "output_type": "execute_result"
    }
   ],
   "source": [
    "%%time\n",
    "get_metrics(get_k_means_samples, 0.000001)"
   ]
  },
  {
   "cell_type": "code",
   "execution_count": 124,
   "id": "cbfe38aa-f9e6-4895-9e71-b209e4e5d677",
   "metadata": {},
   "outputs": [
    {
     "name": "stdout",
     "output_type": "stream",
     "text": [
      "CPU times: total: 10min 48s\n",
      "Wall time: 11min 15s\n"
     ]
    },
    {
     "data": {
      "text/plain": [
       "(0.17003165491681002, 0.2488879559739208, 0.2515625, 6)"
      ]
     },
     "execution_count": 124,
     "metadata": {},
     "output_type": "execute_result"
    }
   ],
   "source": [
    "%%time\n",
    "get_metrics(get_k_means_samples, 0.0000005)"
   ]
  },
  {
   "cell_type": "markdown",
   "id": "f4a0acfd-49a8-45aa-998e-d76e44ec317f",
   "metadata": {},
   "source": [
    "#### PCA + KMeans на не сжатых данных \n"
   ]
  },
  {
   "cell_type": "code",
   "execution_count": 167,
   "id": "66d5b843-f04c-4d0e-8af2-dce6c2a8a8e0",
   "metadata": {},
   "outputs": [],
   "source": [
    "#Считаем центры кластеров для каждого кластера на большой выборке\n",
    "cluster_centers = []\n",
    "for i in range(19):\n",
    "    cluster_centers = cluster_centers + [data_for_clust[preds == i,:].mean(axis=0)]\n",
    "cluster_centers = np.array(cluster_centers)"
   ]
  },
  {
   "cell_type": "code",
   "execution_count": 168,
   "id": "0226ed8d-1707-4e18-9d67-73fc8eed935d",
   "metadata": {},
   "outputs": [
    {
     "data": {
      "text/plain": [
       "(19, 92)"
      ]
     },
     "execution_count": 168,
     "metadata": {},
     "output_type": "execute_result"
    }
   ],
   "source": [
    "cluster_centers.shape"
   ]
  },
  {
   "cell_type": "code",
   "execution_count": 171,
   "id": "8c1ecb30-55a7-4c6d-9b02-d66e4fc1eda7",
   "metadata": {},
   "outputs": [],
   "source": [
    "kmeans = KMeans(n_clusters=19, random_state=0,init = cluster_centers).fit(data_for_clust)\n",
    "preds = kmeans.predict(data_for_clust)"
   ]
  },
  {
   "cell_type": "code",
   "execution_count": 172,
   "id": "6491ebbc-b176-405b-a054-8ec4b607e00c",
   "metadata": {},
   "outputs": [
    {
     "name": "stderr",
     "output_type": "stream",
     "text": [
      "C:\\Users\\isazo\\anaconda3\\Lib\\site-packages\\IPython\\core\\pylabtools.py:170: UserWarning: Creating legend with loc=\"best\" can be slow with large amounts of data.\n",
      "  fig.canvas.print_figure(bytes_io, **kw)\n"
     ]
    },
    {
     "data": {
      "image/png": "[encoded data removed]",
      "text/plain": [
       "<Figure size 1200x1200 with 1 Axes>"
      ]
     },
     "metadata": {},
     "output_type": "display_data"
    }
   ],
   "source": [
    "plt.figure(figsize=(12,12))\n",
    "for i in list(set(preds)):\n",
    "    \n",
    "    plt.scatter(trans_data[preds==i,0],trans_data[preds==i,1],label=i,color=colors[i])\n",
    "plt.legend()\n",
    "plt.show()"
   ]
  },
  {
   "cell_type": "code",
   "execution_count": 173,
   "id": "14c2872a-8bf2-40af-ae6a-c00a5cbf4a7a",
   "metadata": {},
   "outputs": [],
   "source": [
    "dist_of_preds = {}\n",
    "for i in range(len(list(set(preds)))): \n",
    "    dist_of_preds[i] = sum(preds == i) / 11221346"
   ]
  },
  {
   "cell_type": "code",
   "execution_count": 174,
   "id": "a1459152-21e1-492b-8cf2-834e9ecdfc7d",
   "metadata": {},
   "outputs": [
    {
     "name": "stdout",
     "output_type": "stream",
     "text": [
      "CPU times: total: 31min 5s\n",
      "Wall time: 32min 31s\n"
     ]
    },
    {
     "data": {
      "text/plain": [
       "(0.00016619169647146936, 0.00017152871783176482, 0.0, 3366404)"
      ]
     },
     "execution_count": 174,
     "metadata": {},
     "output_type": "execute_result"
    }
   ],
   "source": [
    "%%time \n",
    "get_metrics(get_k_means_samples, 0.3,)"
   ]
  },
  {
   "cell_type": "code",
   "execution_count": 224,
   "id": "29565fbd-a782-4467-bb9d-477cde742996",
   "metadata": {},
   "outputs": [
    {
     "name": "stdout",
     "output_type": "stream",
     "text": [
      "CPU times: total: 16min 38s\n",
      "Wall time: 17min 24s\n"
     ]
    },
    {
     "data": {
      "text/plain": [
       "(0.00033492152745108196, 0.0004358014900424678, 0.0, 1122135)"
      ]
     },
     "execution_count": 224,
     "metadata": {},
     "output_type": "execute_result"
    }
   ],
   "source": [
    "%%time\n",
    "get_metrics(get_k_means_samples, 0.1,)"
   ]
  },
  {
   "cell_type": "code",
   "execution_count": 225,
   "id": "9d82f4af-b140-4ffd-9357-7943b2372043",
   "metadata": {},
   "outputs": [
    {
     "name": "stdout",
     "output_type": "stream",
     "text": [
      "CPU times: total: 9min 39s\n",
      "Wall time: 10min 4s\n"
     ]
    },
    {
     "data": {
      "text/plain": [
       "(0.0011443715919201847, 0.001335846572123165, 0.0, 112213)"
      ]
     },
     "execution_count": 225,
     "metadata": {},
     "output_type": "execute_result"
    }
   ],
   "source": [
    "%%time\n",
    "get_metrics(get_k_means_samples, 0.01,)"
   ]
  },
  {
   "cell_type": "code",
   "execution_count": 226,
   "id": "07214996-6ed8-4b05-8bfe-c1ec31fdcebd",
   "metadata": {},
   "outputs": [
    {
     "name": "stdout",
     "output_type": "stream",
     "text": [
      "CPU times: total: 8min 46s\n",
      "Wall time: 9min 7s\n"
     ]
    },
    {
     "data": {
      "text/plain": [
       "(0.002894593681420635, 0.004025680100258956, 0.003125, 11221)"
      ]
     },
     "execution_count": 226,
     "metadata": {},
     "output_type": "execute_result"
    }
   ],
   "source": [
    "%%time\n",
    "get_metrics(get_k_means_samples, 0.001,)"
   ]
  },
  {
   "cell_type": "code",
   "execution_count": 227,
   "id": "ceaee122-f9c3-4374-b047-376fbfa38e64",
   "metadata": {},
   "outputs": [
    {
     "name": "stdout",
     "output_type": "stream",
     "text": [
      "CPU times: total: 8min 25s\n",
      "Wall time: 8min 45s\n"
     ]
    },
    {
     "data": {
      "text/plain": [
       "(0.012520898475703073, 0.01289382293877348, 0.019375, 1122)"
      ]
     },
     "execution_count": 227,
     "metadata": {},
     "output_type": "execute_result"
    }
   ],
   "source": [
    "%%time\n",
    "get_metrics(get_k_means_samples, 0.0001)"
   ]
  },
  {
   "cell_type": "code",
   "execution_count": 228,
   "id": "8c85391a-a37f-4186-ab0e-5ac7a6199a6a",
   "metadata": {},
   "outputs": [
    {
     "name": "stdout",
     "output_type": "stream",
     "text": [
      "CPU times: total: 8min\n",
      "Wall time: 8min 20s\n"
     ]
    },
    {
     "data": {
      "text/plain": [
       "(0.01600477936534445, 0.0175400636761105, 0.0275, 561)"
      ]
     },
     "execution_count": 228,
     "metadata": {},
     "output_type": "execute_result"
    }
   ],
   "source": [
    "%%time\n",
    "get_metrics(get_k_means_samples, 0.00005)"
   ]
  },
  {
   "cell_type": "code",
   "execution_count": 229,
   "id": "9ef6ec82-de62-4683-9bc5-794796a2c9b2",
   "metadata": {},
   "outputs": [
    {
     "name": "stdout",
     "output_type": "stream",
     "text": [
      "CPU times: total: 7min 58s\n",
      "Wall time: 8min 18s\n"
     ]
    },
    {
     "data": {
      "text/plain": [
       "(0.03278711352817822, 0.0473889264224745, 0.0503125, 112)"
      ]
     },
     "execution_count": 229,
     "metadata": {},
     "output_type": "execute_result"
    }
   ],
   "source": [
    "%%time\n",
    "get_metrics(get_k_means_samples, 0.00001)"
   ]
  },
  {
   "cell_type": "code",
   "execution_count": 230,
   "id": "b46feda6-763b-4ad4-b22e-b08d1246d43b",
   "metadata": {},
   "outputs": [
    {
     "name": "stdout",
     "output_type": "stream",
     "text": [
      "CPU times: total: 10min 19s\n",
      "Wall time: 10min 44s\n"
     ]
    },
    {
     "data": {
      "text/plain": [
       "(0.046804008327915946, 0.05679896594036803, 0.0878125, 56)"
      ]
     },
     "execution_count": 230,
     "metadata": {},
     "output_type": "execute_result"
    }
   ],
   "source": [
    "%%time\n",
    "get_metrics(get_k_means_samples, 0.000005)"
   ]
  },
  {
   "cell_type": "code",
   "execution_count": 231,
   "id": "8287debb-5f1e-418f-98a2-60f93f22f9ab",
   "metadata": {},
   "outputs": [
    {
     "name": "stdout",
     "output_type": "stream",
     "text": [
      "CPU times: total: 8min 22s\n",
      "Wall time: 8min 44s\n"
     ]
    },
    {
     "data": {
      "text/plain": [
       "(0.0791713560801965, 0.0888707628133219, 0.139375, 22)"
      ]
     },
     "execution_count": 231,
     "metadata": {},
     "output_type": "execute_result"
    }
   ],
   "source": [
    "%%time\n",
    "get_metrics(get_k_means_samples, 0.000002)"
   ]
  },
  {
   "cell_type": "code",
   "execution_count": 232,
   "id": "d2f4c8ce-3001-46f5-831f-10e5c0660819",
   "metadata": {},
   "outputs": [
    {
     "name": "stdout",
     "output_type": "stream",
     "text": [
      "CPU times: total: 10min 50s\n",
      "Wall time: 11min 16s\n"
     ]
    },
    {
     "data": {
      "text/plain": [
       "(0.10914819959951312, 0.14466349975060067, 0.19625, 11)"
      ]
     },
     "execution_count": 232,
     "metadata": {},
     "output_type": "execute_result"
    }
   ],
   "source": [
    "%%time\n",
    "get_metrics(get_k_means_samples, 0.000001)"
   ]
  },
  {
   "cell_type": "code",
   "execution_count": 233,
   "id": "25ba851c-985f-428b-80a1-a06cbb92883e",
   "metadata": {},
   "outputs": [
    {
     "name": "stdout",
     "output_type": "stream",
     "text": [
      "CPU times: total: 10min 51s\n",
      "Wall time: 11min 21s\n"
     ]
    },
    {
     "data": {
      "text/plain": [
       "(0.16681726516910853, 0.2742890007729354, 0.2884375, 6)"
      ]
     },
     "execution_count": 233,
     "metadata": {},
     "output_type": "execute_result"
    }
   ],
   "source": [
    "%%time\n",
    "get_metrics(get_k_means_samples, 0.0000005)"
   ]
  },
  {
   "cell_type": "markdown",
   "id": "958aff02-1964-4e46-9bfd-899f3364c74c",
   "metadata": {},
   "source": [
    "##### Перебор количества кластеров "
   ]
  },
  {
   "cell_type": "code",
   "execution_count": 235,
   "id": "e7156135-03f4-4fa5-a1a5-cd9dd4b9c894",
   "metadata": {},
   "outputs": [],
   "source": [
    "n_clusters = [i for i in range(19,41,1)]"
   ]
  },
  {
   "cell_type": "code",
   "execution_count": 241,
   "id": "fd78f521-1911-4b29-909f-2511a137b6de",
   "metadata": {
    "scrolled": true
   },
   "outputs": [
    {
     "name": "stdout",
     "output_type": "stream",
     "text": [
      "При n_clusters = 19\n",
      "(0.025067980915264066, 0.03685926601504489, 0.0509375, 56)\n",
      "При n_clusters = 20\n",
      "(0.029911505253558072, 0.037850775554858704, 0.046875, 56)\n",
      "При n_clusters = 21\n",
      "(0.023116320310102783, 0.033111085813452824, 0.0446875, 56)\n",
      "При n_clusters = 22\n",
      "(0.020224717206621414, 0.03583747058511546, 0.0396875, 56)\n",
      "При n_clusters = 23\n",
      "(0.01962363662992447, 0.03314491985919826, 0.0403125, 56)\n",
      "При n_clusters = 24\n",
      "(0.019376282122954367, 0.03672264568369496, 0.0334375, 56)\n",
      "При n_clusters = 25\n",
      "(0.020575123969007177, 0.03463568178807436, 0.031875, 56)\n",
      "При n_clusters = 26\n",
      "(0.020388690099792134, 0.03478451484371345, 0.0325, 56)\n",
      "При n_clusters = 27\n",
      "(0.017691209712423765, 0.037101083467024794, 0.03625, 56)\n",
      "При n_clusters = 28\n",
      "(0.027037993586564158, 0.033336067702122316, 0.0459375, 56)\n",
      "При n_clusters = 29\n",
      "(0.02138501508561653, 0.031924395369387674, 0.0415625, 56)\n",
      "При n_clusters = 30\n",
      "(0.01880325861837866, 0.0297960296198133, 0.03625, 56)\n",
      "При n_clusters = 31\n",
      "(0.020419805849603217, 0.028730267266592113, 0.0425, 56)\n",
      "При n_clusters = 32\n",
      "(0.022943700356775766, 0.030449931679531233, 0.0403125, 56)\n",
      "При n_clusters = 33\n",
      "(0.022248222298429904, 0.02919802946693155, 0.0440625, 56)\n",
      "При n_clusters = 34\n",
      "(0.018259426723486925, 0.024991324220810237, 0.0415625, 56)\n",
      "При n_clusters = 35\n",
      "(0.031052048185589935, 0.030888231382612378, 0.0453125, 56)\n",
      "При n_clusters = 36\n",
      "(0.031952227873942654, 0.039305560045227596, 0.05, 56)\n",
      "При n_clusters = 37\n",
      "(0.025276354501220774, 0.03399526776250892, 0.034375, 56)\n",
      "При n_clusters = 38\n",
      "(0.04834757653493058, 0.03177795605136589, 0.056875, 56)\n",
      "При n_clusters = 39\n",
      "(0.042337376332610595, 0.03041007098560468, 0.0440625, 56)\n",
      "При n_clusters = 40\n",
      "(0.03645312631570627, 0.023513232602670634, 0.044375, 56)\n"
     ]
    }
   ],
   "source": [
    "dict_of_clusts = []\n",
    "for i in n_clusters:\n",
    "    kmeans = KMeans(n_clusters=i, random_state=0).fit(data_for_clust)\n",
    "    preds = kmeans.predict(data_for_clust)\n",
    "    dist_of_preds = {}\n",
    "    for k in range(len(list(set(preds)))): \n",
    "        dist_of_preds[k] = sum(preds == k) / 11221346\n",
    "\n",
    "    print(f'При n_clusters = {i}')\n",
    "    get = get_metrics(get_k_means_samples, 0.000005)\n",
    "    print(get)\n",
    "    dict_of_clusts.append([i,kmeans, get,])"
   ]
  },
  {
   "cell_type": "code",
   "execution_count": 275,
   "id": "e0531610-6ccd-4aa1-a562-8cba8db54e38",
   "metadata": {},
   "outputs": [
    {
     "name": "stdout",
     "output_type": "stream",
     "text": [
      "[27, KMeans(n_clusters=27, random_state=0), (0.017691209712423765, 0.037101083467024794, 0.03625, 56)]\n"
     ]
    }
   ],
   "source": [
    "ms = 100\n",
    "for i in dict_of_clusts:\n",
    "    if i[2][0]<ms:\n",
    "        ms = i[2][0]\n",
    "        best = i\n",
    "print(best)\n",
    "#Лучшее значение мат ожид при количестве кластеров = 27"
   ]
  },
  {
   "cell_type": "code",
   "execution_count": 289,
   "id": "8b98c97d-79c2-45b2-b78a-de6005c7e4ea",
   "metadata": {},
   "outputs": [
    {
     "data": {
      "text/plain": [
       "[<matplotlib.lines.Line2D at 0x2505e337110>]"
      ]
     },
     "execution_count": 289,
     "metadata": {},
     "output_type": "execute_result"
    },
    {
     "data": {
      "image/png": "[encoded data removed]",
      "text/plain": [
       "<Figure size 640x480 with 1 Axes>"
      ]
     },
     "metadata": {},
     "output_type": "display_data"
    }
   ],
   "source": [
    "plt.plot([i[0] for i in dict_of_clusts], \n",
    "         [i[2][0] for i in dict_of_clusts])"
   ]
  },
  {
   "cell_type": "code",
   "execution_count": 297,
   "id": "6abcdc51-1f59-4686-8a99-a4228f4a2d4c",
   "metadata": {},
   "outputs": [
    {
     "name": "stdout",
     "output_type": "stream",
     "text": [
      "[40, KMeans(n_clusters=40, random_state=0), (0.03645312631570627, 0.023513232602670634, 0.044375, 56)]\n"
     ]
    }
   ],
   "source": [
    "ms = 100\n",
    "for i in dict_of_clusts:\n",
    "    if i[2][1]<ms:\n",
    "        ms = i[2][1]\n",
    "        best = i\n",
    "print(best)\n",
    "#Лучшее значение стд при количестве кластеров = 40"
   ]
  },
  {
   "cell_type": "code",
   "execution_count": 293,
   "id": "1e111c9f-157b-442b-94d1-039ea06f0340",
   "metadata": {},
   "outputs": [
    {
     "data": {
      "text/plain": [
       "[<matplotlib.lines.Line2D at 0x250268ce4b0>]"
      ]
     },
     "execution_count": 293,
     "metadata": {},
     "output_type": "execute_result"
    },
    {
     "data": {
      "image/png": "[encoded data removed]",
      "text/plain": [
       "<Figure size 640x480 with 1 Axes>"
      ]
     },
     "metadata": {},
     "output_type": "display_data"
    }
   ],
   "source": [
    "plt.plot([i[0] for i in dict_of_clusts], \n",
    "         [i[2][1] for i in dict_of_clusts])"
   ]
  },
  {
   "cell_type": "code",
   "execution_count": 303,
   "id": "18ea7273-f4d2-4e4e-844d-fc954ff1eca1",
   "metadata": {},
   "outputs": [
    {
     "name": "stdout",
     "output_type": "stream",
     "text": [
      "[40, KMeans(n_clusters=40, random_state=0), (0.03645312631570627, 0.023513232602670634, 0.044375, 56)]\n"
     ]
    }
   ],
   "source": [
    "ms = 100\n",
    "for i in dict_of_clusts:\n",
    "    if i[2][1]<ms:\n",
    "        ms = i[2][2]\n",
    "        best = i\n",
    "print(best)\n",
    "#Лучшее значение медианы при количестве кластеров = 40"
   ]
  },
  {
   "cell_type": "code",
   "execution_count": 295,
   "id": "f0cbcdb4-69ab-4ccb-91fb-3258b118109e",
   "metadata": {},
   "outputs": [
    {
     "data": {
      "text/plain": [
       "[<matplotlib.lines.Line2D at 0x2505e2bc2f0>]"
      ]
     },
     "execution_count": 295,
     "metadata": {},
     "output_type": "execute_result"
    },
    {
     "data": {
      "image/png": "[encoded data removed]",
      "text/plain": [
       "<Figure size 640x480 with 1 Axes>"
      ]
     },
     "metadata": {},
     "output_type": "display_data"
    }
   ],
   "source": [
    "plt.plot([i[0] for i in dict_of_clusts], \n",
    "         [i[2][2] for i in dict_of_clusts])"
   ]
  },
  {
   "cell_type": "code",
   "execution_count": null,
   "id": "aea9a868-ebdd-4f50-b1a9-cea6555b8afa",
   "metadata": {},
   "outputs": [],
   "source": []
  }
 ],
 "metadata": {
  "kernelspec": {
   "display_name": "Python [conda env:base] *",
   "language": "python",
   "name": "conda-base-py"
  },
  "language_info": {
   "codemirror_mode": {
    "name": "ipython",
    "version": 3
   },
   "file_extension": ".py",
   "mimetype": "text/x-python",
   "name": "python",
   "nbconvert_exporter": "python",
   "pygments_lexer": "ipython3",
   "version": "3.12.7"
  }
 },
 "nbformat": 4,
 "nbformat_minor": 5
}
