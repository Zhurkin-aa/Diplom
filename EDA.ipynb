{
 "cells": [
  {
   "cell_type": "code",
   "execution_count": 1,
   "id": "85f27e3f-d493-4cc0-8dd8-ec9d503918ba",
   "metadata": {},
   "outputs": [],
   "source": [
    "import pandas \n",
    "import os \n",
    "import matplotlib.pyplot as plt \n",
    "from sklearn.preprocessing import OneHotEncoder\n",
    "import numpy as np\n",
    "from sklearn.preprocessing import MinMaxScaler\n",
    "from scipy import stats\n",
    "import random\n"
   ]
  },
  {
   "cell_type": "markdown",
   "id": "20f7c5bd-9f4b-4c37-aef9-5c74b4bd3c97",
   "metadata": {},
   "source": [
    "#### Данные \n",
    "##### Поля в базе:\n",
    "- \"Класс\",\n",
    "- \"Код предмета (1- РУ, 2- МА)\",\n",
    "- \"ОО (логин школы)\",\n",
    "- \"Код ученика\",\n",
    "- \"Балл\",\n",
    "- \"Отметка\",\n",
    "- \"Year - Учебный год\". \n",
    "В логине ОО 4-ый и 5-ый символы (2 первые цифры) - это код региона (из федерального справочника, прилагается). Т.е. sch77171506 - это школа региона 77 (г.Москва).\n",
    "\n",
    "Максимальные баллы за работу (контрольно - измерительный материал): РУ 4 класс-38 баллов, РУ 5,6 класс-45 баллов, МА 4 класс - 20 баллов, МА 5,6 класс - 20 баллов."
   ]
  },
  {
   "cell_type": "code",
   "execution_count": 3,
   "id": "63462f4b-050b-4eae-8204-1903d7adec32",
   "metadata": {},
   "outputs": [
    {
     "name": "stderr",
     "output_type": "stream",
     "text": [
      "<>:1: SyntaxWarning: invalid escape sequence '\\p'\n",
      "<>:1: SyntaxWarning: invalid escape sequence '\\p'\n",
      "C:\\Users\\isazo\\AppData\\Local\\Temp\\ipykernel_6892\\2388599070.py:1: SyntaxWarning: invalid escape sequence '\\p'\n",
      "  dataset = pandas.read_csv('pupils_ruma456_2019_2020\\pupils_ruma456_2019_2020.csv')\n",
      "C:\\Users\\isazo\\AppData\\Local\\Temp\\ipykernel_6892\\2388599070.py:1: DtypeWarning: Columns (0,1,3,4,5) have mixed types. Specify dtype option on import or set low_memory=False.\n",
      "  dataset = pandas.read_csv('pupils_ruma456_2019_2020\\pupils_ruma456_2019_2020.csv')\n"
     ]
    }
   ],
   "source": [
    "dataset = pandas.read_csv('pupils_ruma456_2019_2020\\pupils_ruma456_2019_2020.csv')"
   ]
  },
  {
   "cell_type": "code",
   "execution_count": 4,
   "id": "e8147838-6aeb-4bd3-b898-ef9c9f22a8b0",
   "metadata": {},
   "outputs": [
    {
     "data": {
      "text/plain": [
       "(11221349, 7)"
      ]
     },
     "execution_count": 4,
     "metadata": {},
     "output_type": "execute_result"
    }
   ],
   "source": [
    "dataset.shape"
   ]
  },
  {
   "cell_type": "markdown",
   "id": "6b91952c-bc47-4e51-b3d3-27ada274f30a",
   "metadata": {},
   "source": [
    "###### Датасет содержит 11221349 строки и 7 колонок "
   ]
  },
  {
   "cell_type": "code",
   "execution_count": 6,
   "id": "aac243f6-ba61-4e6a-bb28-ac9ca57773b7",
   "metadata": {},
   "outputs": [
    {
     "data": {
      "text/html": [
       "<div>\n",
       "<style scoped>\n",
       "    .dataframe tbody tr th:only-of-type {\n",
       "        vertical-align: middle;\n",
       "    }\n",
       "\n",
       "    .dataframe tbody tr th {\n",
       "        vertical-align: top;\n",
       "    }\n",
       "\n",
       "    .dataframe thead th {\n",
       "        text-align: right;\n",
       "    }\n",
       "</style>\n",
       "<table border=\"1\" class=\"dataframe\">\n",
       "  <thead>\n",
       "    <tr style=\"text-align: right;\">\n",
       "      <th></th>\n",
       "      <th>Класс</th>\n",
       "      <th>Код_предмета</th>\n",
       "      <th>ЛогинОО</th>\n",
       "      <th>Код_ученика</th>\n",
       "      <th>Балл</th>\n",
       "      <th>Отметка</th>\n",
       "      <th>Year</th>\n",
       "    </tr>\n",
       "  </thead>\n",
       "  <tbody>\n",
       "    <tr>\n",
       "      <th>0</th>\n",
       "      <td>4</td>\n",
       "      <td>2</td>\n",
       "      <td>sch01110001</td>\n",
       "      <td>4001</td>\n",
       "      <td>11</td>\n",
       "      <td>4</td>\n",
       "      <td>2019</td>\n",
       "    </tr>\n",
       "    <tr>\n",
       "      <th>1</th>\n",
       "      <td>4</td>\n",
       "      <td>2</td>\n",
       "      <td>sch01110001</td>\n",
       "      <td>4002</td>\n",
       "      <td>18</td>\n",
       "      <td>5</td>\n",
       "      <td>2019</td>\n",
       "    </tr>\n",
       "    <tr>\n",
       "      <th>2</th>\n",
       "      <td>4</td>\n",
       "      <td>2</td>\n",
       "      <td>sch01110001</td>\n",
       "      <td>4003</td>\n",
       "      <td>9</td>\n",
       "      <td>3</td>\n",
       "      <td>2019</td>\n",
       "    </tr>\n",
       "    <tr>\n",
       "      <th>3</th>\n",
       "      <td>4</td>\n",
       "      <td>2</td>\n",
       "      <td>sch01110001</td>\n",
       "      <td>4004</td>\n",
       "      <td>11</td>\n",
       "      <td>4</td>\n",
       "      <td>2019</td>\n",
       "    </tr>\n",
       "    <tr>\n",
       "      <th>4</th>\n",
       "      <td>4</td>\n",
       "      <td>2</td>\n",
       "      <td>sch01110001</td>\n",
       "      <td>4005</td>\n",
       "      <td>8</td>\n",
       "      <td>3</td>\n",
       "      <td>2019</td>\n",
       "    </tr>\n",
       "  </tbody>\n",
       "</table>\n",
       "</div>"
      ],
      "text/plain": [
       "  Класс Код_предмета      ЛогинОО Код_ученика Балл Отметка  Year\n",
       "0     4            2  sch01110001        4001   11       4  2019\n",
       "1     4            2  sch01110001        4002   18       5  2019\n",
       "2     4            2  sch01110001        4003    9       3  2019\n",
       "3     4            2  sch01110001        4004   11       4  2019\n",
       "4     4            2  sch01110001        4005    8       3  2019"
      ]
     },
     "execution_count": 6,
     "metadata": {},
     "output_type": "execute_result"
    }
   ],
   "source": [
    "dataset.head()"
   ]
  },
  {
   "cell_type": "code",
   "execution_count": 7,
   "id": "6d334778-938e-422f-b54a-205019464b25",
   "metadata": {},
   "outputs": [
    {
     "name": "stdout",
     "output_type": "stream",
     "text": [
      "<class 'pandas.core.frame.DataFrame'>\n",
      "RangeIndex: 11221349 entries, 0 to 11221348\n",
      "Data columns (total 7 columns):\n",
      " #   Column        Dtype \n",
      "---  ------        ----- \n",
      " 0   Класс         object\n",
      " 1   Код_предмета  object\n",
      " 2   ЛогинОО       object\n",
      " 3   Код_ученика   object\n",
      " 4   Балл          object\n",
      " 5   Отметка       object\n",
      " 6   Year          int64 \n",
      "dtypes: int64(1), object(6)\n",
      "memory usage: 599.3+ MB\n"
     ]
    }
   ],
   "source": [
    "dataset.info()"
   ]
  },
  {
   "cell_type": "markdown",
   "id": "01bd95f6-ad37-416e-84bc-ad8a24b27345",
   "metadata": {},
   "source": [
    "#### Колонка \"Класс\""
   ]
  },
  {
   "cell_type": "code",
   "execution_count": 9,
   "id": "f33ea101-90d2-4332-a0e4-7b6aba02012f",
   "metadata": {},
   "outputs": [
    {
     "data": {
      "text/plain": [
       "Класс\n",
       "5    5382367\n",
       "4    3086470\n",
       "6    2359296\n",
       "6     248415\n",
       "5     144798\n",
       "           3\n",
       "Name: count, dtype: int64"
      ]
     },
     "execution_count": 9,
     "metadata": {},
     "output_type": "execute_result"
    }
   ],
   "source": [
    "# Проверяем на пустые значения \n",
    "dataset['Класс'].value_counts()"
   ]
  },
  {
   "cell_type": "markdown",
   "id": "fb977afb-aa6c-41ad-8442-2c45cfc0a5f6",
   "metadata": {},
   "source": [
    "##### 3 значения являются пустой строкой. Выкидываем их\n",
    "##### Некорые значения записаны в формате str, а некоторые в int. Переведем все в int"
   ]
  },
  {
   "cell_type": "code",
   "execution_count": 11,
   "id": "4c195dd2-2727-4c8b-a567-1d8f5e5118c2",
   "metadata": {},
   "outputs": [
    {
     "name": "stderr",
     "output_type": "stream",
     "text": [
      "C:\\Users\\isazo\\AppData\\Local\\Temp\\ipykernel_6892\\1791497540.py:2: FutureWarning: using <function <lambda> at 0x000002DB000242C0> in Series.agg cannot aggregate and has been deprecated. Use Series.transform to keep behavior unchanged.\n",
      "  dataset['Класс'] = dataset['Класс'].agg(lambda x : int(x))\n"
     ]
    }
   ],
   "source": [
    "dataset = dataset[dataset['Класс']!=' ']\n",
    "dataset['Класс'] = dataset['Класс'].agg(lambda x : int(x))"
   ]
  },
  {
   "cell_type": "code",
   "execution_count": 12,
   "id": "c1a745c7-8f04-43a3-b67d-796f1fc32042",
   "metadata": {},
   "outputs": [
    {
     "data": {
      "text/plain": [
       "Класс\n",
       "5    5527165\n",
       "4    3086470\n",
       "6    2607711\n",
       "Name: count, dtype: int64"
      ]
     },
     "execution_count": 12,
     "metadata": {},
     "output_type": "execute_result"
    }
   ],
   "source": [
    "dataset['Класс'].value_counts()"
   ]
  },
  {
   "cell_type": "code",
   "execution_count": 13,
   "id": "6c149324-c20a-4b56-88bd-7949f3577210",
   "metadata": {},
   "outputs": [
    {
     "data": {
      "text/plain": [
       "<Axes: >"
      ]
     },
     "execution_count": 13,
     "metadata": {},
     "output_type": "execute_result"
    },
    {
     "data": {
      "image/png": "[encoded data removed]",
      "text/plain": [
       "<Figure size 640x480 with 1 Axes>"
      ]
     },
     "metadata": {},
     "output_type": "display_data"
    }
   ],
   "source": [
    "dataset['Класс'].hist()"
   ]
  },
  {
   "cell_type": "markdown",
   "id": "f90af1f0-7207-4254-a458-085e1a1bb110",
   "metadata": {},
   "source": [
    "##### В выборке всегос 3 класса. \n",
    "##### Больше всего наблюдений из 5 класса. \n",
    "##### Из 4 и 6 примерно одинаково. \n",
    "##### Признак является порядковым, потому one-hot-encoding не нужен"
   ]
  },
  {
   "cell_type": "markdown",
   "id": "3c8540f2-821d-4933-84da-c51403d34a3b",
   "metadata": {},
   "source": [
    "#### Колонка \"Код_предмета\""
   ]
  },
  {
   "cell_type": "code",
   "execution_count": 16,
   "id": "a2725566-6d25-4102-8028-d50e0191c511",
   "metadata": {},
   "outputs": [
    {
     "data": {
      "text/plain": [
       "Код_предмета\n",
       "2    5441828\n",
       "1    5386305\n",
       "2     198491\n",
       "1     194722\n",
       "Name: count, dtype: int64"
      ]
     },
     "execution_count": 16,
     "metadata": {},
     "output_type": "execute_result"
    }
   ],
   "source": [
    "dataset['Код_предмета'].value_counts()"
   ]
  },
  {
   "cell_type": "code",
   "execution_count": 17,
   "id": "749c0675-889e-46e8-841d-36c93f0df325",
   "metadata": {},
   "outputs": [
    {
     "name": "stdout",
     "output_type": "stream",
     "text": [
      "Пустых строк = 0\n"
     ]
    }
   ],
   "source": [
    "print(f'Пустых строк = {sum(dataset['Код_предмета'].isna())}')"
   ]
  },
  {
   "cell_type": "markdown",
   "id": "f859cf59-d67e-4a29-8118-11b4ed52e0d0",
   "metadata": {},
   "source": [
    "###### Некорые значения записаны в формате str, а некоторые в int. Переведем все в int"
   ]
  },
  {
   "cell_type": "code",
   "execution_count": 19,
   "id": "f79cd7ed-5716-47f2-b345-69baf7f803e6",
   "metadata": {},
   "outputs": [
    {
     "name": "stderr",
     "output_type": "stream",
     "text": [
      "C:\\Users\\isazo\\AppData\\Local\\Temp\\ipykernel_6892\\2271426698.py:1: FutureWarning: using <function <lambda> at 0x000002DB00F572E0> in Series.agg cannot aggregate and has been deprecated. Use Series.transform to keep behavior unchanged.\n",
      "  dataset['Код_предмета'] = dataset['Код_предмета'].agg(lambda x : int(x))\n"
     ]
    }
   ],
   "source": [
    "dataset['Код_предмета'] = dataset['Код_предмета'].agg(lambda x : int(x))"
   ]
  },
  {
   "cell_type": "code",
   "execution_count": 20,
   "id": "ee8fb239-5733-4f86-be22-1087095209da",
   "metadata": {},
   "outputs": [
    {
     "data": {
      "text/plain": [
       "<Axes: >"
      ]
     },
     "execution_count": 20,
     "metadata": {},
     "output_type": "execute_result"
    },
    {
     "data": {
      "image/png": "[encoded data removed]",
      "text/plain": [
       "<Figure size 640x480 with 1 Axes>"
      ]
     },
     "metadata": {},
     "output_type": "display_data"
    }
   ],
   "source": [
    "dataset['Код_предмета'].hist()"
   ]
  },
  {
   "cell_type": "markdown",
   "id": "19b14692-c04d-4e53-8e17-71b9dc68842b",
   "metadata": {},
   "source": [
    "###### В датасете примерно одинаковое количество наблюдей обоих значений\n",
    "###### Признак является категориальным, потому проведем one-hot-encoding "
   ]
  },
  {
   "cell_type": "code",
   "execution_count": 22,
   "id": "374e9e56-64a5-4c93-af56-9f1564e78e5c",
   "metadata": {},
   "outputs": [],
   "source": [
    "def one_hot_encoding_ru(x):\n",
    "\n",
    "    if x == 1:\n",
    "        \n",
    "        return 1\n",
    "        \n",
    "    else:\n",
    "        \n",
    "        return 0 \n",
    "\n",
    "def one_hot_encoding_ma(x):\n",
    "\n",
    "    if x == 2:\n",
    "        \n",
    "        return 1\n",
    "        \n",
    "    else:\n",
    "        \n",
    "        return 0 "
   ]
  },
  {
   "cell_type": "code",
   "execution_count": 23,
   "id": "776c74cb-0f1e-482f-b448-ed33c49072f0",
   "metadata": {},
   "outputs": [
    {
     "name": "stderr",
     "output_type": "stream",
     "text": [
      "C:\\Users\\isazo\\AppData\\Local\\Temp\\ipykernel_6892\\2627994782.py:1: FutureWarning: using <function one_hot_encoding_ru at 0x000002DB00FCF1A0> in Series.agg cannot aggregate and has been deprecated. Use Series.transform to keep behavior unchanged.\n",
      "  dataset['РУ'] = dataset['Код_предмета'].agg(one_hot_encoding_ru)\n",
      "C:\\Users\\isazo\\AppData\\Local\\Temp\\ipykernel_6892\\2627994782.py:2: FutureWarning: using <function one_hot_encoding_ma at 0x000002DB00FCF420> in Series.agg cannot aggregate and has been deprecated. Use Series.transform to keep behavior unchanged.\n",
      "  dataset['МА'] = dataset['Код_предмета'].agg(one_hot_encoding_ma)\n"
     ]
    }
   ],
   "source": [
    "dataset['РУ'] = dataset['Код_предмета'].agg(one_hot_encoding_ru)\n",
    "dataset['МА'] = dataset['Код_предмета'].agg(one_hot_encoding_ma)\n",
    "del dataset['Код_предмета']"
   ]
  },
  {
   "cell_type": "code",
   "execution_count": 24,
   "id": "780b6bd1-b9b4-4c81-9736-2544de7d51f1",
   "metadata": {},
   "outputs": [
    {
     "data": {
      "text/html": [
       "<div>\n",
       "<style scoped>\n",
       "    .dataframe tbody tr th:only-of-type {\n",
       "        vertical-align: middle;\n",
       "    }\n",
       "\n",
       "    .dataframe tbody tr th {\n",
       "        vertical-align: top;\n",
       "    }\n",
       "\n",
       "    .dataframe thead th {\n",
       "        text-align: right;\n",
       "    }\n",
       "</style>\n",
       "<table border=\"1\" class=\"dataframe\">\n",
       "  <thead>\n",
       "    <tr style=\"text-align: right;\">\n",
       "      <th></th>\n",
       "      <th>Класс</th>\n",
       "      <th>ЛогинОО</th>\n",
       "      <th>Код_ученика</th>\n",
       "      <th>Балл</th>\n",
       "      <th>Отметка</th>\n",
       "      <th>Year</th>\n",
       "      <th>РУ</th>\n",
       "      <th>МА</th>\n",
       "    </tr>\n",
       "  </thead>\n",
       "  <tbody>\n",
       "    <tr>\n",
       "      <th>0</th>\n",
       "      <td>4</td>\n",
       "      <td>sch01110001</td>\n",
       "      <td>4001</td>\n",
       "      <td>11</td>\n",
       "      <td>4</td>\n",
       "      <td>2019</td>\n",
       "      <td>0</td>\n",
       "      <td>1</td>\n",
       "    </tr>\n",
       "    <tr>\n",
       "      <th>1</th>\n",
       "      <td>4</td>\n",
       "      <td>sch01110001</td>\n",
       "      <td>4002</td>\n",
       "      <td>18</td>\n",
       "      <td>5</td>\n",
       "      <td>2019</td>\n",
       "      <td>0</td>\n",
       "      <td>1</td>\n",
       "    </tr>\n",
       "    <tr>\n",
       "      <th>2</th>\n",
       "      <td>4</td>\n",
       "      <td>sch01110001</td>\n",
       "      <td>4003</td>\n",
       "      <td>9</td>\n",
       "      <td>3</td>\n",
       "      <td>2019</td>\n",
       "      <td>0</td>\n",
       "      <td>1</td>\n",
       "    </tr>\n",
       "    <tr>\n",
       "      <th>3</th>\n",
       "      <td>4</td>\n",
       "      <td>sch01110001</td>\n",
       "      <td>4004</td>\n",
       "      <td>11</td>\n",
       "      <td>4</td>\n",
       "      <td>2019</td>\n",
       "      <td>0</td>\n",
       "      <td>1</td>\n",
       "    </tr>\n",
       "    <tr>\n",
       "      <th>4</th>\n",
       "      <td>4</td>\n",
       "      <td>sch01110001</td>\n",
       "      <td>4005</td>\n",
       "      <td>8</td>\n",
       "      <td>3</td>\n",
       "      <td>2019</td>\n",
       "      <td>0</td>\n",
       "      <td>1</td>\n",
       "    </tr>\n",
       "  </tbody>\n",
       "</table>\n",
       "</div>"
      ],
      "text/plain": [
       "   Класс      ЛогинОО Код_ученика Балл Отметка  Year  РУ  МА\n",
       "0      4  sch01110001        4001   11       4  2019   0   1\n",
       "1      4  sch01110001        4002   18       5  2019   0   1\n",
       "2      4  sch01110001        4003    9       3  2019   0   1\n",
       "3      4  sch01110001        4004   11       4  2019   0   1\n",
       "4      4  sch01110001        4005    8       3  2019   0   1"
      ]
     },
     "execution_count": 24,
     "metadata": {},
     "output_type": "execute_result"
    }
   ],
   "source": [
    "dataset.head()"
   ]
  },
  {
   "cell_type": "markdown",
   "id": "8a1934aa-a225-42c1-a2e1-9f5a13c1332c",
   "metadata": {},
   "source": [
    "#### Колонка \"ЛогинОО\""
   ]
  },
  {
   "cell_type": "code",
   "execution_count": 26,
   "id": "43335269-4a5c-40b5-a225-deb6c5acff24",
   "metadata": {},
   "outputs": [
    {
     "data": {
      "text/plain": [
       "ЛогинОО\n",
       "sch72120397    4666\n",
       "sch23133988    4630\n",
       "sch23133985    4544\n",
       "sch72123046    4171\n",
       "sch72123048    3395\n",
       "               ... \n",
       "sch03136025       1\n",
       "sch05153509       1\n",
       "sch66163320       1\n",
       "sch55156133       1\n",
       "sch70103089       1\n",
       "Name: count, Length: 39391, dtype: int64"
      ]
     },
     "execution_count": 26,
     "metadata": {},
     "output_type": "execute_result"
    }
   ],
   "source": [
    "dataset['ЛогинОО'].value_counts()"
   ]
  },
  {
   "cell_type": "code",
   "execution_count": 27,
   "id": "1b5232b9-12bf-436b-9f87-5c01379e4478",
   "metadata": {},
   "outputs": [
    {
     "name": "stdout",
     "output_type": "stream",
     "text": [
      "Пустых строк = 0\n"
     ]
    }
   ],
   "source": [
    "print(f'Пустых строк = {sum(dataset['ЛогинОО'].isna())}')"
   ]
  },
  {
   "cell_type": "markdown",
   "id": "db0586c9-f76b-4825-9844-9e41fe8c29b2",
   "metadata": {},
   "source": [
    "##### В выборке нет пустых строк.\n",
    "##### Получим данные о регионе из логика . Номер региона - это первые 2 цифры "
   ]
  },
  {
   "cell_type": "code",
   "execution_count": 29,
   "id": "e0f0f5f1-4846-4e28-aedc-32686e8797b6",
   "metadata": {},
   "outputs": [
    {
     "name": "stderr",
     "output_type": "stream",
     "text": [
      "C:\\Users\\isazo\\AppData\\Local\\Temp\\ipykernel_6892\\390606912.py:1: FutureWarning: using <function <lambda> at 0x000002DB00DDC680> in Series.agg cannot aggregate and has been deprecated. Use Series.transform to keep behavior unchanged.\n",
      "  dataset['Регион'] = dataset['ЛогинОО'].agg(lambda x: x[3:5])\n"
     ]
    }
   ],
   "source": [
    "dataset['Регион'] = dataset['ЛогинОО'].agg(lambda x: x[3:5])\n"
   ]
  },
  {
   "cell_type": "code",
   "execution_count": 30,
   "id": "198a031b-2cf0-42ed-b293-31fc15fffdac",
   "metadata": {},
   "outputs": [
    {
     "data": {
      "text/plain": [
       "Регион\n",
       "50    614856\n",
       "23    500170\n",
       "66    357102\n",
       "02    352522\n",
       "78    333971\n",
       "       ...  \n",
       "79     14056\n",
       "49     10461\n",
       "90      7525\n",
       "87      4417\n",
       "83      4098\n",
       "Name: count, Length: 86, dtype: int64"
      ]
     },
     "execution_count": 30,
     "metadata": {},
     "output_type": "execute_result"
    }
   ],
   "source": [
    "dataset['Регион'].value_counts()"
   ]
  },
  {
   "cell_type": "markdown",
   "id": "f9a6c19d-f7eb-4412-961c-488bd2a62d2e",
   "metadata": {},
   "source": [
    "##### Признак \"Регион\" является категориальным, потому проведем one-hot-encoding "
   ]
  },
  {
   "cell_type": "code",
   "execution_count": 32,
   "id": "824c6d10-b88d-47d3-b108-0016f0dbeb81",
   "metadata": {},
   "outputs": [],
   "source": [
    "names_of_regions = dataset['Регион'].unique()"
   ]
  },
  {
   "cell_type": "code",
   "execution_count": 33,
   "id": "2305cb32-a788-441a-abee-dbecc24f9b14",
   "metadata": {},
   "outputs": [],
   "source": [
    "def one_hot(x):\n",
    "    if x == True:\n",
    "        return 1\n",
    "    else:\n",
    "        return 0"
   ]
  },
  {
   "cell_type": "code",
   "execution_count": 34,
   "id": "af50286d-1162-4c8c-a2b9-cd476597b5a0",
   "metadata": {
    "scrolled": true
   },
   "outputs": [
    {
     "name": "stderr",
     "output_type": "stream",
     "text": [
      "C:\\Users\\isazo\\AppData\\Local\\Temp\\ipykernel_6892\\3306363753.py:2: FutureWarning: using <function one_hot at 0x000002DB00DDD120> in Series.agg cannot aggregate and has been deprecated. Use Series.transform to keep behavior unchanged.\n",
      "  dataset[i] = (dataset['Регион'] == i).agg(one_hot)\n",
      "C:\\Users\\isazo\\AppData\\Local\\Temp\\ipykernel_6892\\3306363753.py:2: FutureWarning: using <function one_hot at 0x000002DB00DDD120> in Series.agg cannot aggregate and has been deprecated. Use Series.transform to keep behavior unchanged.\n",
      "  dataset[i] = (dataset['Регион'] == i).agg(one_hot)\n",
      "C:\\Users\\isazo\\AppData\\Local\\Temp\\ipykernel_6892\\3306363753.py:2: FutureWarning: using <function one_hot at 0x000002DB00DDD120> in Series.agg cannot aggregate and has been deprecated. Use Series.transform to keep behavior unchanged.\n",
      "  dataset[i] = (dataset['Регион'] == i).agg(one_hot)\n",
      "C:\\Users\\isazo\\AppData\\Local\\Temp\\ipykernel_6892\\3306363753.py:2: FutureWarning: using <function one_hot at 0x000002DB00DDD120> in Series.agg cannot aggregate and has been deprecated. Use Series.transform to keep behavior unchanged.\n",
      "  dataset[i] = (dataset['Регион'] == i).agg(one_hot)\n",
      "C:\\Users\\isazo\\AppData\\Local\\Temp\\ipykernel_6892\\3306363753.py:2: FutureWarning: using <function one_hot at 0x000002DB00DDD120> in Series.agg cannot aggregate and has been deprecated. Use Series.transform to keep behavior unchanged.\n",
      "  dataset[i] = (dataset['Регион'] == i).agg(one_hot)\n",
      "C:\\Users\\isazo\\AppData\\Local\\Temp\\ipykernel_6892\\3306363753.py:2: FutureWarning: using <function one_hot at 0x000002DB00DDD120> in Series.agg cannot aggregate and has been deprecated. Use Series.transform to keep behavior unchanged.\n",
      "  dataset[i] = (dataset['Регион'] == i).agg(one_hot)\n",
      "C:\\Users\\isazo\\AppData\\Local\\Temp\\ipykernel_6892\\3306363753.py:2: FutureWarning: using <function one_hot at 0x000002DB00DDD120> in Series.agg cannot aggregate and has been deprecated. Use Series.transform to keep behavior unchanged.\n",
      "  dataset[i] = (dataset['Регион'] == i).agg(one_hot)\n",
      "C:\\Users\\isazo\\AppData\\Local\\Temp\\ipykernel_6892\\3306363753.py:2: FutureWarning: using <function one_hot at 0x000002DB00DDD120> in Series.agg cannot aggregate and has been deprecated. Use Series.transform to keep behavior unchanged.\n",
      "  dataset[i] = (dataset['Регион'] == i).agg(one_hot)\n",
      "C:\\Users\\isazo\\AppData\\Local\\Temp\\ipykernel_6892\\3306363753.py:2: FutureWarning: using <function one_hot at 0x000002DB00DDD120> in Series.agg cannot aggregate and has been deprecated. Use Series.transform to keep behavior unchanged.\n",
      "  dataset[i] = (dataset['Регион'] == i).agg(one_hot)\n",
      "C:\\Users\\isazo\\AppData\\Local\\Temp\\ipykernel_6892\\3306363753.py:2: FutureWarning: using <function one_hot at 0x000002DB00DDD120> in Series.agg cannot aggregate and has been deprecated. Use Series.transform to keep behavior unchanged.\n",
      "  dataset[i] = (dataset['Регион'] == i).agg(one_hot)\n",
      "C:\\Users\\isazo\\AppData\\Local\\Temp\\ipykernel_6892\\3306363753.py:2: FutureWarning: using <function one_hot at 0x000002DB00DDD120> in Series.agg cannot aggregate and has been deprecated. Use Series.transform to keep behavior unchanged.\n",
      "  dataset[i] = (dataset['Регион'] == i).agg(one_hot)\n",
      "C:\\Users\\isazo\\AppData\\Local\\Temp\\ipykernel_6892\\3306363753.py:2: FutureWarning: using <function one_hot at 0x000002DB00DDD120> in Series.agg cannot aggregate and has been deprecated. Use Series.transform to keep behavior unchanged.\n",
      "  dataset[i] = (dataset['Регион'] == i).agg(one_hot)\n",
      "C:\\Users\\isazo\\AppData\\Local\\Temp\\ipykernel_6892\\3306363753.py:2: FutureWarning: using <function one_hot at 0x000002DB00DDD120> in Series.agg cannot aggregate and has been deprecated. Use Series.transform to keep behavior unchanged.\n",
      "  dataset[i] = (dataset['Регион'] == i).agg(one_hot)\n",
      "C:\\Users\\isazo\\AppData\\Local\\Temp\\ipykernel_6892\\3306363753.py:2: FutureWarning: using <function one_hot at 0x000002DB00DDD120> in Series.agg cannot aggregate and has been deprecated. Use Series.transform to keep behavior unchanged.\n",
      "  dataset[i] = (dataset['Регион'] == i).agg(one_hot)\n",
      "C:\\Users\\isazo\\AppData\\Local\\Temp\\ipykernel_6892\\3306363753.py:2: FutureWarning: using <function one_hot at 0x000002DB00DDD120> in Series.agg cannot aggregate and has been deprecated. Use Series.transform to keep behavior unchanged.\n",
      "  dataset[i] = (dataset['Регион'] == i).agg(one_hot)\n",
      "C:\\Users\\isazo\\AppData\\Local\\Temp\\ipykernel_6892\\3306363753.py:2: FutureWarning: using <function one_hot at 0x000002DB00DDD120> in Series.agg cannot aggregate and has been deprecated. Use Series.transform to keep behavior unchanged.\n",
      "  dataset[i] = (dataset['Регион'] == i).agg(one_hot)\n",
      "C:\\Users\\isazo\\AppData\\Local\\Temp\\ipykernel_6892\\3306363753.py:2: FutureWarning: using <function one_hot at 0x000002DB00DDD120> in Series.agg cannot aggregate and has been deprecated. Use Series.transform to keep behavior unchanged.\n",
      "  dataset[i] = (dataset['Регион'] == i).agg(one_hot)\n",
      "C:\\Users\\isazo\\AppData\\Local\\Temp\\ipykernel_6892\\3306363753.py:2: FutureWarning: using <function one_hot at 0x000002DB00DDD120> in Series.agg cannot aggregate and has been deprecated. Use Series.transform to keep behavior unchanged.\n",
      "  dataset[i] = (dataset['Регион'] == i).agg(one_hot)\n",
      "C:\\Users\\isazo\\AppData\\Local\\Temp\\ipykernel_6892\\3306363753.py:2: FutureWarning: using <function one_hot at 0x000002DB00DDD120> in Series.agg cannot aggregate and has been deprecated. Use Series.transform to keep behavior unchanged.\n",
      "  dataset[i] = (dataset['Регион'] == i).agg(one_hot)\n",
      "C:\\Users\\isazo\\AppData\\Local\\Temp\\ipykernel_6892\\3306363753.py:2: FutureWarning: using <function one_hot at 0x000002DB00DDD120> in Series.agg cannot aggregate and has been deprecated. Use Series.transform to keep behavior unchanged.\n",
      "  dataset[i] = (dataset['Регион'] == i).agg(one_hot)\n",
      "C:\\Users\\isazo\\AppData\\Local\\Temp\\ipykernel_6892\\3306363753.py:2: FutureWarning: using <function one_hot at 0x000002DB00DDD120> in Series.agg cannot aggregate and has been deprecated. Use Series.transform to keep behavior unchanged.\n",
      "  dataset[i] = (dataset['Регион'] == i).agg(one_hot)\n",
      "C:\\Users\\isazo\\AppData\\Local\\Temp\\ipykernel_6892\\3306363753.py:2: FutureWarning: using <function one_hot at 0x000002DB00DDD120> in Series.agg cannot aggregate and has been deprecated. Use Series.transform to keep behavior unchanged.\n",
      "  dataset[i] = (dataset['Регион'] == i).agg(one_hot)\n",
      "C:\\Users\\isazo\\AppData\\Local\\Temp\\ipykernel_6892\\3306363753.py:2: FutureWarning: using <function one_hot at 0x000002DB00DDD120> in Series.agg cannot aggregate and has been deprecated. Use Series.transform to keep behavior unchanged.\n",
      "  dataset[i] = (dataset['Регион'] == i).agg(one_hot)\n",
      "C:\\Users\\isazo\\AppData\\Local\\Temp\\ipykernel_6892\\3306363753.py:2: FutureWarning: using <function one_hot at 0x000002DB00DDD120> in Series.agg cannot aggregate and has been deprecated. Use Series.transform to keep behavior unchanged.\n",
      "  dataset[i] = (dataset['Регион'] == i).agg(one_hot)\n",
      "C:\\Users\\isazo\\AppData\\Local\\Temp\\ipykernel_6892\\3306363753.py:2: FutureWarning: using <function one_hot at 0x000002DB00DDD120> in Series.agg cannot aggregate and has been deprecated. Use Series.transform to keep behavior unchanged.\n",
      "  dataset[i] = (dataset['Регион'] == i).agg(one_hot)\n",
      "C:\\Users\\isazo\\AppData\\Local\\Temp\\ipykernel_6892\\3306363753.py:2: FutureWarning: using <function one_hot at 0x000002DB00DDD120> in Series.agg cannot aggregate and has been deprecated. Use Series.transform to keep behavior unchanged.\n",
      "  dataset[i] = (dataset['Регион'] == i).agg(one_hot)\n",
      "C:\\Users\\isazo\\AppData\\Local\\Temp\\ipykernel_6892\\3306363753.py:2: FutureWarning: using <function one_hot at 0x000002DB00DDD120> in Series.agg cannot aggregate and has been deprecated. Use Series.transform to keep behavior unchanged.\n",
      "  dataset[i] = (dataset['Регион'] == i).agg(one_hot)\n",
      "C:\\Users\\isazo\\AppData\\Local\\Temp\\ipykernel_6892\\3306363753.py:2: FutureWarning: using <function one_hot at 0x000002DB00DDD120> in Series.agg cannot aggregate and has been deprecated. Use Series.transform to keep behavior unchanged.\n",
      "  dataset[i] = (dataset['Регион'] == i).agg(one_hot)\n",
      "C:\\Users\\isazo\\AppData\\Local\\Temp\\ipykernel_6892\\3306363753.py:2: FutureWarning: using <function one_hot at 0x000002DB00DDD120> in Series.agg cannot aggregate and has been deprecated. Use Series.transform to keep behavior unchanged.\n",
      "  dataset[i] = (dataset['Регион'] == i).agg(one_hot)\n",
      "C:\\Users\\isazo\\AppData\\Local\\Temp\\ipykernel_6892\\3306363753.py:2: FutureWarning: using <function one_hot at 0x000002DB00DDD120> in Series.agg cannot aggregate and has been deprecated. Use Series.transform to keep behavior unchanged.\n",
      "  dataset[i] = (dataset['Регион'] == i).agg(one_hot)\n",
      "C:\\Users\\isazo\\AppData\\Local\\Temp\\ipykernel_6892\\3306363753.py:2: FutureWarning: using <function one_hot at 0x000002DB00DDD120> in Series.agg cannot aggregate and has been deprecated. Use Series.transform to keep behavior unchanged.\n",
      "  dataset[i] = (dataset['Регион'] == i).agg(one_hot)\n",
      "C:\\Users\\isazo\\AppData\\Local\\Temp\\ipykernel_6892\\3306363753.py:2: FutureWarning: using <function one_hot at 0x000002DB00DDD120> in Series.agg cannot aggregate and has been deprecated. Use Series.transform to keep behavior unchanged.\n",
      "  dataset[i] = (dataset['Регион'] == i).agg(one_hot)\n",
      "C:\\Users\\isazo\\AppData\\Local\\Temp\\ipykernel_6892\\3306363753.py:2: FutureWarning: using <function one_hot at 0x000002DB00DDD120> in Series.agg cannot aggregate and has been deprecated. Use Series.transform to keep behavior unchanged.\n",
      "  dataset[i] = (dataset['Регион'] == i).agg(one_hot)\n",
      "C:\\Users\\isazo\\AppData\\Local\\Temp\\ipykernel_6892\\3306363753.py:2: FutureWarning: using <function one_hot at 0x000002DB00DDD120> in Series.agg cannot aggregate and has been deprecated. Use Series.transform to keep behavior unchanged.\n",
      "  dataset[i] = (dataset['Регион'] == i).agg(one_hot)\n",
      "C:\\Users\\isazo\\AppData\\Local\\Temp\\ipykernel_6892\\3306363753.py:2: FutureWarning: using <function one_hot at 0x000002DB00DDD120> in Series.agg cannot aggregate and has been deprecated. Use Series.transform to keep behavior unchanged.\n",
      "  dataset[i] = (dataset['Регион'] == i).agg(one_hot)\n",
      "C:\\Users\\isazo\\AppData\\Local\\Temp\\ipykernel_6892\\3306363753.py:2: FutureWarning: using <function one_hot at 0x000002DB00DDD120> in Series.agg cannot aggregate and has been deprecated. Use Series.transform to keep behavior unchanged.\n",
      "  dataset[i] = (dataset['Регион'] == i).agg(one_hot)\n",
      "C:\\Users\\isazo\\AppData\\Local\\Temp\\ipykernel_6892\\3306363753.py:2: FutureWarning: using <function one_hot at 0x000002DB00DDD120> in Series.agg cannot aggregate and has been deprecated. Use Series.transform to keep behavior unchanged.\n",
      "  dataset[i] = (dataset['Регион'] == i).agg(one_hot)\n",
      "C:\\Users\\isazo\\AppData\\Local\\Temp\\ipykernel_6892\\3306363753.py:2: FutureWarning: using <function one_hot at 0x000002DB00DDD120> in Series.agg cannot aggregate and has been deprecated. Use Series.transform to keep behavior unchanged.\n",
      "  dataset[i] = (dataset['Регион'] == i).agg(one_hot)\n",
      "C:\\Users\\isazo\\AppData\\Local\\Temp\\ipykernel_6892\\3306363753.py:2: FutureWarning: using <function one_hot at 0x000002DB00DDD120> in Series.agg cannot aggregate and has been deprecated. Use Series.transform to keep behavior unchanged.\n",
      "  dataset[i] = (dataset['Регион'] == i).agg(one_hot)\n",
      "C:\\Users\\isazo\\AppData\\Local\\Temp\\ipykernel_6892\\3306363753.py:2: FutureWarning: using <function one_hot at 0x000002DB00DDD120> in Series.agg cannot aggregate and has been deprecated. Use Series.transform to keep behavior unchanged.\n",
      "  dataset[i] = (dataset['Регион'] == i).agg(one_hot)\n",
      "C:\\Users\\isazo\\AppData\\Local\\Temp\\ipykernel_6892\\3306363753.py:2: FutureWarning: using <function one_hot at 0x000002DB00DDD120> in Series.agg cannot aggregate and has been deprecated. Use Series.transform to keep behavior unchanged.\n",
      "  dataset[i] = (dataset['Регион'] == i).agg(one_hot)\n",
      "C:\\Users\\isazo\\AppData\\Local\\Temp\\ipykernel_6892\\3306363753.py:2: FutureWarning: using <function one_hot at 0x000002DB00DDD120> in Series.agg cannot aggregate and has been deprecated. Use Series.transform to keep behavior unchanged.\n",
      "  dataset[i] = (dataset['Регион'] == i).agg(one_hot)\n",
      "C:\\Users\\isazo\\AppData\\Local\\Temp\\ipykernel_6892\\3306363753.py:2: FutureWarning: using <function one_hot at 0x000002DB00DDD120> in Series.agg cannot aggregate and has been deprecated. Use Series.transform to keep behavior unchanged.\n",
      "  dataset[i] = (dataset['Регион'] == i).agg(one_hot)\n",
      "C:\\Users\\isazo\\AppData\\Local\\Temp\\ipykernel_6892\\3306363753.py:2: FutureWarning: using <function one_hot at 0x000002DB00DDD120> in Series.agg cannot aggregate and has been deprecated. Use Series.transform to keep behavior unchanged.\n",
      "  dataset[i] = (dataset['Регион'] == i).agg(one_hot)\n",
      "C:\\Users\\isazo\\AppData\\Local\\Temp\\ipykernel_6892\\3306363753.py:2: FutureWarning: using <function one_hot at 0x000002DB00DDD120> in Series.agg cannot aggregate and has been deprecated. Use Series.transform to keep behavior unchanged.\n",
      "  dataset[i] = (dataset['Регион'] == i).agg(one_hot)\n",
      "C:\\Users\\isazo\\AppData\\Local\\Temp\\ipykernel_6892\\3306363753.py:2: FutureWarning: using <function one_hot at 0x000002DB00DDD120> in Series.agg cannot aggregate and has been deprecated. Use Series.transform to keep behavior unchanged.\n",
      "  dataset[i] = (dataset['Регион'] == i).agg(one_hot)\n",
      "C:\\Users\\isazo\\AppData\\Local\\Temp\\ipykernel_6892\\3306363753.py:2: FutureWarning: using <function one_hot at 0x000002DB00DDD120> in Series.agg cannot aggregate and has been deprecated. Use Series.transform to keep behavior unchanged.\n",
      "  dataset[i] = (dataset['Регион'] == i).agg(one_hot)\n",
      "C:\\Users\\isazo\\AppData\\Local\\Temp\\ipykernel_6892\\3306363753.py:2: FutureWarning: using <function one_hot at 0x000002DB00DDD120> in Series.agg cannot aggregate and has been deprecated. Use Series.transform to keep behavior unchanged.\n",
      "  dataset[i] = (dataset['Регион'] == i).agg(one_hot)\n",
      "C:\\Users\\isazo\\AppData\\Local\\Temp\\ipykernel_6892\\3306363753.py:2: FutureWarning: using <function one_hot at 0x000002DB00DDD120> in Series.agg cannot aggregate and has been deprecated. Use Series.transform to keep behavior unchanged.\n",
      "  dataset[i] = (dataset['Регион'] == i).agg(one_hot)\n",
      "C:\\Users\\isazo\\AppData\\Local\\Temp\\ipykernel_6892\\3306363753.py:2: FutureWarning: using <function one_hot at 0x000002DB00DDD120> in Series.agg cannot aggregate and has been deprecated. Use Series.transform to keep behavior unchanged.\n",
      "  dataset[i] = (dataset['Регион'] == i).agg(one_hot)\n",
      "C:\\Users\\isazo\\AppData\\Local\\Temp\\ipykernel_6892\\3306363753.py:2: FutureWarning: using <function one_hot at 0x000002DB00DDD120> in Series.agg cannot aggregate and has been deprecated. Use Series.transform to keep behavior unchanged.\n",
      "  dataset[i] = (dataset['Регион'] == i).agg(one_hot)\n",
      "C:\\Users\\isazo\\AppData\\Local\\Temp\\ipykernel_6892\\3306363753.py:2: FutureWarning: using <function one_hot at 0x000002DB00DDD120> in Series.agg cannot aggregate and has been deprecated. Use Series.transform to keep behavior unchanged.\n",
      "  dataset[i] = (dataset['Регион'] == i).agg(one_hot)\n",
      "C:\\Users\\isazo\\AppData\\Local\\Temp\\ipykernel_6892\\3306363753.py:2: FutureWarning: using <function one_hot at 0x000002DB00DDD120> in Series.agg cannot aggregate and has been deprecated. Use Series.transform to keep behavior unchanged.\n",
      "  dataset[i] = (dataset['Регион'] == i).agg(one_hot)\n",
      "C:\\Users\\isazo\\AppData\\Local\\Temp\\ipykernel_6892\\3306363753.py:2: FutureWarning: using <function one_hot at 0x000002DB00DDD120> in Series.agg cannot aggregate and has been deprecated. Use Series.transform to keep behavior unchanged.\n",
      "  dataset[i] = (dataset['Регион'] == i).agg(one_hot)\n",
      "C:\\Users\\isazo\\AppData\\Local\\Temp\\ipykernel_6892\\3306363753.py:2: FutureWarning: using <function one_hot at 0x000002DB00DDD120> in Series.agg cannot aggregate and has been deprecated. Use Series.transform to keep behavior unchanged.\n",
      "  dataset[i] = (dataset['Регион'] == i).agg(one_hot)\n",
      "C:\\Users\\isazo\\AppData\\Local\\Temp\\ipykernel_6892\\3306363753.py:2: FutureWarning: using <function one_hot at 0x000002DB00DDD120> in Series.agg cannot aggregate and has been deprecated. Use Series.transform to keep behavior unchanged.\n",
      "  dataset[i] = (dataset['Регион'] == i).agg(one_hot)\n",
      "C:\\Users\\isazo\\AppData\\Local\\Temp\\ipykernel_6892\\3306363753.py:2: FutureWarning: using <function one_hot at 0x000002DB00DDD120> in Series.agg cannot aggregate and has been deprecated. Use Series.transform to keep behavior unchanged.\n",
      "  dataset[i] = (dataset['Регион'] == i).agg(one_hot)\n",
      "C:\\Users\\isazo\\AppData\\Local\\Temp\\ipykernel_6892\\3306363753.py:2: FutureWarning: using <function one_hot at 0x000002DB00DDD120> in Series.agg cannot aggregate and has been deprecated. Use Series.transform to keep behavior unchanged.\n",
      "  dataset[i] = (dataset['Регион'] == i).agg(one_hot)\n",
      "C:\\Users\\isazo\\AppData\\Local\\Temp\\ipykernel_6892\\3306363753.py:2: FutureWarning: using <function one_hot at 0x000002DB00DDD120> in Series.agg cannot aggregate and has been deprecated. Use Series.transform to keep behavior unchanged.\n",
      "  dataset[i] = (dataset['Регион'] == i).agg(one_hot)\n",
      "C:\\Users\\isazo\\AppData\\Local\\Temp\\ipykernel_6892\\3306363753.py:2: FutureWarning: using <function one_hot at 0x000002DB00DDD120> in Series.agg cannot aggregate and has been deprecated. Use Series.transform to keep behavior unchanged.\n",
      "  dataset[i] = (dataset['Регион'] == i).agg(one_hot)\n",
      "C:\\Users\\isazo\\AppData\\Local\\Temp\\ipykernel_6892\\3306363753.py:2: FutureWarning: using <function one_hot at 0x000002DB00DDD120> in Series.agg cannot aggregate and has been deprecated. Use Series.transform to keep behavior unchanged.\n",
      "  dataset[i] = (dataset['Регион'] == i).agg(one_hot)\n",
      "C:\\Users\\isazo\\AppData\\Local\\Temp\\ipykernel_6892\\3306363753.py:2: FutureWarning: using <function one_hot at 0x000002DB00DDD120> in Series.agg cannot aggregate and has been deprecated. Use Series.transform to keep behavior unchanged.\n",
      "  dataset[i] = (dataset['Регион'] == i).agg(one_hot)\n",
      "C:\\Users\\isazo\\AppData\\Local\\Temp\\ipykernel_6892\\3306363753.py:2: FutureWarning: using <function one_hot at 0x000002DB00DDD120> in Series.agg cannot aggregate and has been deprecated. Use Series.transform to keep behavior unchanged.\n",
      "  dataset[i] = (dataset['Регион'] == i).agg(one_hot)\n",
      "C:\\Users\\isazo\\AppData\\Local\\Temp\\ipykernel_6892\\3306363753.py:2: FutureWarning: using <function one_hot at 0x000002DB00DDD120> in Series.agg cannot aggregate and has been deprecated. Use Series.transform to keep behavior unchanged.\n",
      "  dataset[i] = (dataset['Регион'] == i).agg(one_hot)\n",
      "C:\\Users\\isazo\\AppData\\Local\\Temp\\ipykernel_6892\\3306363753.py:2: FutureWarning: using <function one_hot at 0x000002DB00DDD120> in Series.agg cannot aggregate and has been deprecated. Use Series.transform to keep behavior unchanged.\n",
      "  dataset[i] = (dataset['Регион'] == i).agg(one_hot)\n",
      "C:\\Users\\isazo\\AppData\\Local\\Temp\\ipykernel_6892\\3306363753.py:2: FutureWarning: using <function one_hot at 0x000002DB00DDD120> in Series.agg cannot aggregate and has been deprecated. Use Series.transform to keep behavior unchanged.\n",
      "  dataset[i] = (dataset['Регион'] == i).agg(one_hot)\n",
      "C:\\Users\\isazo\\AppData\\Local\\Temp\\ipykernel_6892\\3306363753.py:2: FutureWarning: using <function one_hot at 0x000002DB00DDD120> in Series.agg cannot aggregate and has been deprecated. Use Series.transform to keep behavior unchanged.\n",
      "  dataset[i] = (dataset['Регион'] == i).agg(one_hot)\n",
      "C:\\Users\\isazo\\AppData\\Local\\Temp\\ipykernel_6892\\3306363753.py:2: FutureWarning: using <function one_hot at 0x000002DB00DDD120> in Series.agg cannot aggregate and has been deprecated. Use Series.transform to keep behavior unchanged.\n",
      "  dataset[i] = (dataset['Регион'] == i).agg(one_hot)\n",
      "C:\\Users\\isazo\\AppData\\Local\\Temp\\ipykernel_6892\\3306363753.py:2: FutureWarning: using <function one_hot at 0x000002DB00DDD120> in Series.agg cannot aggregate and has been deprecated. Use Series.transform to keep behavior unchanged.\n",
      "  dataset[i] = (dataset['Регион'] == i).agg(one_hot)\n",
      "C:\\Users\\isazo\\AppData\\Local\\Temp\\ipykernel_6892\\3306363753.py:2: FutureWarning: using <function one_hot at 0x000002DB00DDD120> in Series.agg cannot aggregate and has been deprecated. Use Series.transform to keep behavior unchanged.\n",
      "  dataset[i] = (dataset['Регион'] == i).agg(one_hot)\n",
      "C:\\Users\\isazo\\AppData\\Local\\Temp\\ipykernel_6892\\3306363753.py:2: FutureWarning: using <function one_hot at 0x000002DB00DDD120> in Series.agg cannot aggregate and has been deprecated. Use Series.transform to keep behavior unchanged.\n",
      "  dataset[i] = (dataset['Регион'] == i).agg(one_hot)\n",
      "C:\\Users\\isazo\\AppData\\Local\\Temp\\ipykernel_6892\\3306363753.py:2: FutureWarning: using <function one_hot at 0x000002DB00DDD120> in Series.agg cannot aggregate and has been deprecated. Use Series.transform to keep behavior unchanged.\n",
      "  dataset[i] = (dataset['Регион'] == i).agg(one_hot)\n",
      "C:\\Users\\isazo\\AppData\\Local\\Temp\\ipykernel_6892\\3306363753.py:2: FutureWarning: using <function one_hot at 0x000002DB00DDD120> in Series.agg cannot aggregate and has been deprecated. Use Series.transform to keep behavior unchanged.\n",
      "  dataset[i] = (dataset['Регион'] == i).agg(one_hot)\n",
      "C:\\Users\\isazo\\AppData\\Local\\Temp\\ipykernel_6892\\3306363753.py:2: FutureWarning: using <function one_hot at 0x000002DB00DDD120> in Series.agg cannot aggregate and has been deprecated. Use Series.transform to keep behavior unchanged.\n",
      "  dataset[i] = (dataset['Регион'] == i).agg(one_hot)\n",
      "C:\\Users\\isazo\\AppData\\Local\\Temp\\ipykernel_6892\\3306363753.py:2: FutureWarning: using <function one_hot at 0x000002DB00DDD120> in Series.agg cannot aggregate and has been deprecated. Use Series.transform to keep behavior unchanged.\n",
      "  dataset[i] = (dataset['Регион'] == i).agg(one_hot)\n",
      "C:\\Users\\isazo\\AppData\\Local\\Temp\\ipykernel_6892\\3306363753.py:2: FutureWarning: using <function one_hot at 0x000002DB00DDD120> in Series.agg cannot aggregate and has been deprecated. Use Series.transform to keep behavior unchanged.\n",
      "  dataset[i] = (dataset['Регион'] == i).agg(one_hot)\n",
      "C:\\Users\\isazo\\AppData\\Local\\Temp\\ipykernel_6892\\3306363753.py:2: FutureWarning: using <function one_hot at 0x000002DB00DDD120> in Series.agg cannot aggregate and has been deprecated. Use Series.transform to keep behavior unchanged.\n",
      "  dataset[i] = (dataset['Регион'] == i).agg(one_hot)\n",
      "C:\\Users\\isazo\\AppData\\Local\\Temp\\ipykernel_6892\\3306363753.py:2: FutureWarning: using <function one_hot at 0x000002DB00DDD120> in Series.agg cannot aggregate and has been deprecated. Use Series.transform to keep behavior unchanged.\n",
      "  dataset[i] = (dataset['Регион'] == i).agg(one_hot)\n",
      "C:\\Users\\isazo\\AppData\\Local\\Temp\\ipykernel_6892\\3306363753.py:2: FutureWarning: using <function one_hot at 0x000002DB00DDD120> in Series.agg cannot aggregate and has been deprecated. Use Series.transform to keep behavior unchanged.\n",
      "  dataset[i] = (dataset['Регион'] == i).agg(one_hot)\n",
      "C:\\Users\\isazo\\AppData\\Local\\Temp\\ipykernel_6892\\3306363753.py:2: FutureWarning: using <function one_hot at 0x000002DB00DDD120> in Series.agg cannot aggregate and has been deprecated. Use Series.transform to keep behavior unchanged.\n",
      "  dataset[i] = (dataset['Регион'] == i).agg(one_hot)\n",
      "C:\\Users\\isazo\\AppData\\Local\\Temp\\ipykernel_6892\\3306363753.py:2: FutureWarning: using <function one_hot at 0x000002DB00DDD120> in Series.agg cannot aggregate and has been deprecated. Use Series.transform to keep behavior unchanged.\n",
      "  dataset[i] = (dataset['Регион'] == i).agg(one_hot)\n",
      "C:\\Users\\isazo\\AppData\\Local\\Temp\\ipykernel_6892\\3306363753.py:2: FutureWarning: using <function one_hot at 0x000002DB00DDD120> in Series.agg cannot aggregate and has been deprecated. Use Series.transform to keep behavior unchanged.\n",
      "  dataset[i] = (dataset['Регион'] == i).agg(one_hot)\n",
      "C:\\Users\\isazo\\AppData\\Local\\Temp\\ipykernel_6892\\3306363753.py:2: FutureWarning: using <function one_hot at 0x000002DB00DDD120> in Series.agg cannot aggregate and has been deprecated. Use Series.transform to keep behavior unchanged.\n",
      "  dataset[i] = (dataset['Регион'] == i).agg(one_hot)\n",
      "C:\\Users\\isazo\\AppData\\Local\\Temp\\ipykernel_6892\\3306363753.py:2: FutureWarning: using <function one_hot at 0x000002DB00DDD120> in Series.agg cannot aggregate and has been deprecated. Use Series.transform to keep behavior unchanged.\n",
      "  dataset[i] = (dataset['Регион'] == i).agg(one_hot)\n",
      "C:\\Users\\isazo\\AppData\\Local\\Temp\\ipykernel_6892\\3306363753.py:2: FutureWarning: using <function one_hot at 0x000002DB00DDD120> in Series.agg cannot aggregate and has been deprecated. Use Series.transform to keep behavior unchanged.\n",
      "  dataset[i] = (dataset['Регион'] == i).agg(one_hot)\n",
      "C:\\Users\\isazo\\AppData\\Local\\Temp\\ipykernel_6892\\3306363753.py:2: FutureWarning: using <function one_hot at 0x000002DB00DDD120> in Series.agg cannot aggregate and has been deprecated. Use Series.transform to keep behavior unchanged.\n",
      "  dataset[i] = (dataset['Регион'] == i).agg(one_hot)\n"
     ]
    }
   ],
   "source": [
    "for i in names_of_regions:\n",
    "    dataset[i] = (dataset['Регион'] == i).agg(one_hot)\n",
    "    \n",
    "del dataset['Регион']"
   ]
  },
  {
   "cell_type": "code",
   "execution_count": 35,
   "id": "6e7f36ae-440d-4831-b96d-8d00df5c6519",
   "metadata": {},
   "outputs": [
    {
     "data": {
      "text/html": [
       "<div>\n",
       "<style scoped>\n",
       "    .dataframe tbody tr th:only-of-type {\n",
       "        vertical-align: middle;\n",
       "    }\n",
       "\n",
       "    .dataframe tbody tr th {\n",
       "        vertical-align: top;\n",
       "    }\n",
       "\n",
       "    .dataframe thead th {\n",
       "        text-align: right;\n",
       "    }\n",
       "</style>\n",
       "<table border=\"1\" class=\"dataframe\">\n",
       "  <thead>\n",
       "    <tr style=\"text-align: right;\">\n",
       "      <th></th>\n",
       "      <th>Класс</th>\n",
       "      <th>ЛогинОО</th>\n",
       "      <th>Код_ученика</th>\n",
       "      <th>Балл</th>\n",
       "      <th>Отметка</th>\n",
       "      <th>Year</th>\n",
       "      <th>РУ</th>\n",
       "      <th>МА</th>\n",
       "      <th>01</th>\n",
       "      <th>02</th>\n",
       "      <th>...</th>\n",
       "      <th>77</th>\n",
       "      <th>78</th>\n",
       "      <th>79</th>\n",
       "      <th>82</th>\n",
       "      <th>83</th>\n",
       "      <th>86</th>\n",
       "      <th>87</th>\n",
       "      <th>89</th>\n",
       "      <th>90</th>\n",
       "      <th>92</th>\n",
       "    </tr>\n",
       "  </thead>\n",
       "  <tbody>\n",
       "    <tr>\n",
       "      <th>0</th>\n",
       "      <td>4</td>\n",
       "      <td>sch01110001</td>\n",
       "      <td>4001</td>\n",
       "      <td>11</td>\n",
       "      <td>4</td>\n",
       "      <td>2019</td>\n",
       "      <td>0</td>\n",
       "      <td>1</td>\n",
       "      <td>1</td>\n",
       "      <td>0</td>\n",
       "      <td>...</td>\n",
       "      <td>0</td>\n",
       "      <td>0</td>\n",
       "      <td>0</td>\n",
       "      <td>0</td>\n",
       "      <td>0</td>\n",
       "      <td>0</td>\n",
       "      <td>0</td>\n",
       "      <td>0</td>\n",
       "      <td>0</td>\n",
       "      <td>0</td>\n",
       "    </tr>\n",
       "    <tr>\n",
       "      <th>1</th>\n",
       "      <td>4</td>\n",
       "      <td>sch01110001</td>\n",
       "      <td>4002</td>\n",
       "      <td>18</td>\n",
       "      <td>5</td>\n",
       "      <td>2019</td>\n",
       "      <td>0</td>\n",
       "      <td>1</td>\n",
       "      <td>1</td>\n",
       "      <td>0</td>\n",
       "      <td>...</td>\n",
       "      <td>0</td>\n",
       "      <td>0</td>\n",
       "      <td>0</td>\n",
       "      <td>0</td>\n",
       "      <td>0</td>\n",
       "      <td>0</td>\n",
       "      <td>0</td>\n",
       "      <td>0</td>\n",
       "      <td>0</td>\n",
       "      <td>0</td>\n",
       "    </tr>\n",
       "    <tr>\n",
       "      <th>2</th>\n",
       "      <td>4</td>\n",
       "      <td>sch01110001</td>\n",
       "      <td>4003</td>\n",
       "      <td>9</td>\n",
       "      <td>3</td>\n",
       "      <td>2019</td>\n",
       "      <td>0</td>\n",
       "      <td>1</td>\n",
       "      <td>1</td>\n",
       "      <td>0</td>\n",
       "      <td>...</td>\n",
       "      <td>0</td>\n",
       "      <td>0</td>\n",
       "      <td>0</td>\n",
       "      <td>0</td>\n",
       "      <td>0</td>\n",
       "      <td>0</td>\n",
       "      <td>0</td>\n",
       "      <td>0</td>\n",
       "      <td>0</td>\n",
       "      <td>0</td>\n",
       "    </tr>\n",
       "    <tr>\n",
       "      <th>3</th>\n",
       "      <td>4</td>\n",
       "      <td>sch01110001</td>\n",
       "      <td>4004</td>\n",
       "      <td>11</td>\n",
       "      <td>4</td>\n",
       "      <td>2019</td>\n",
       "      <td>0</td>\n",
       "      <td>1</td>\n",
       "      <td>1</td>\n",
       "      <td>0</td>\n",
       "      <td>...</td>\n",
       "      <td>0</td>\n",
       "      <td>0</td>\n",
       "      <td>0</td>\n",
       "      <td>0</td>\n",
       "      <td>0</td>\n",
       "      <td>0</td>\n",
       "      <td>0</td>\n",
       "      <td>0</td>\n",
       "      <td>0</td>\n",
       "      <td>0</td>\n",
       "    </tr>\n",
       "    <tr>\n",
       "      <th>4</th>\n",
       "      <td>4</td>\n",
       "      <td>sch01110001</td>\n",
       "      <td>4005</td>\n",
       "      <td>8</td>\n",
       "      <td>3</td>\n",
       "      <td>2019</td>\n",
       "      <td>0</td>\n",
       "      <td>1</td>\n",
       "      <td>1</td>\n",
       "      <td>0</td>\n",
       "      <td>...</td>\n",
       "      <td>0</td>\n",
       "      <td>0</td>\n",
       "      <td>0</td>\n",
       "      <td>0</td>\n",
       "      <td>0</td>\n",
       "      <td>0</td>\n",
       "      <td>0</td>\n",
       "      <td>0</td>\n",
       "      <td>0</td>\n",
       "      <td>0</td>\n",
       "    </tr>\n",
       "  </tbody>\n",
       "</table>\n",
       "<p>5 rows × 94 columns</p>\n",
       "</div>"
      ],
      "text/plain": [
       "   Класс      ЛогинОО Код_ученика Балл Отметка  Year  РУ  МА  01  02  ...  77  \\\n",
       "0      4  sch01110001        4001   11       4  2019   0   1   1   0  ...   0   \n",
       "1      4  sch01110001        4002   18       5  2019   0   1   1   0  ...   0   \n",
       "2      4  sch01110001        4003    9       3  2019   0   1   1   0  ...   0   \n",
       "3      4  sch01110001        4004   11       4  2019   0   1   1   0  ...   0   \n",
       "4      4  sch01110001        4005    8       3  2019   0   1   1   0  ...   0   \n",
       "\n",
       "   78  79  82  83  86  87  89  90  92  \n",
       "0   0   0   0   0   0   0   0   0   0  \n",
       "1   0   0   0   0   0   0   0   0   0  \n",
       "2   0   0   0   0   0   0   0   0   0  \n",
       "3   0   0   0   0   0   0   0   0   0  \n",
       "4   0   0   0   0   0   0   0   0   0  \n",
       "\n",
       "[5 rows x 94 columns]"
      ]
     },
     "execution_count": 35,
     "metadata": {},
     "output_type": "execute_result"
    }
   ],
   "source": [
    "dataset.head()"
   ]
  },
  {
   "cell_type": "code",
   "execution_count": 36,
   "id": "ed56123b-d55d-4c5d-b569-19b6e3975fd1",
   "metadata": {},
   "outputs": [
    {
     "data": {
      "text/plain": [
       "(11221346, 94)"
      ]
     },
     "execution_count": 36,
     "metadata": {},
     "output_type": "execute_result"
    }
   ],
   "source": [
    "dataset.shape"
   ]
  },
  {
   "cell_type": "markdown",
   "id": "c80d2816-e5ae-4dc9-a510-7fe3efa6231a",
   "metadata": {},
   "source": [
    "#### Колонка \"Код_ученика\""
   ]
  },
  {
   "cell_type": "code",
   "execution_count": 38,
   "id": "502ccef8-ef0a-4567-b35f-b973e714beb8",
   "metadata": {},
   "outputs": [
    {
     "data": {
      "text/plain": [
       "Код_ученика\n",
       "4001     73384\n",
       "4002     71593\n",
       "5001     69621\n",
       "4003     68977\n",
       "5002     68025\n",
       "         ...  \n",
       "50503        1\n",
       "50504        1\n",
       "50513        1\n",
       "50514        1\n",
       "50795        1\n",
       "Name: count, Length: 4483, dtype: int64"
      ]
     },
     "execution_count": 38,
     "metadata": {},
     "output_type": "execute_result"
    }
   ],
   "source": [
    "dataset['Код_ученика'].value_counts()"
   ]
  },
  {
   "cell_type": "code",
   "execution_count": 39,
   "id": "96e62844-021c-4d43-9dcb-b16c764f795e",
   "metadata": {},
   "outputs": [
    {
     "name": "stdout",
     "output_type": "stream",
     "text": [
      "Пустых строк = 0\n"
     ]
    }
   ],
   "source": [
    "print(f'Пустых строк = {sum(dataset['Код_ученика'].isna())}')"
   ]
  },
  {
   "cell_type": "code",
   "execution_count": 40,
   "id": "fdfc4a37-4fa9-4b31-9ba0-213cfada59ce",
   "metadata": {},
   "outputs": [
    {
     "name": "stderr",
     "output_type": "stream",
     "text": [
      "C:\\Users\\isazo\\AppData\\Local\\Temp\\ipykernel_6892\\3088078780.py:1: FutureWarning: using <function <lambda> at 0x000002DB00DDF060> in Series.agg cannot aggregate and has been deprecated. Use Series.transform to keep behavior unchanged.\n",
      "  dataset['Код_ученика'].agg(lambda x: int(x)).hist()\n"
     ]
    },
    {
     "data": {
      "text/plain": [
       "<Axes: >"
      ]
     },
     "execution_count": 40,
     "metadata": {},
     "output_type": "execute_result"
    },
    {
     "data": {
      "image/png": "[encoded data removed]",
      "text/plain": [
       "<Figure size 640x480 with 1 Axes>"
      ]
     },
     "metadata": {},
     "output_type": "display_data"
    }
   ],
   "source": [
    "dataset['Код_ученика'].agg(lambda x: int(x)).hist()"
   ]
  },
  {
   "cell_type": "markdown",
   "id": "ba45b384-155d-459e-8e0c-71d3748dedc7",
   "metadata": {},
   "source": [
    "##### В данных явная аномалия. потому удалим этот столбец "
   ]
  },
  {
   "cell_type": "code",
   "execution_count": 42,
   "id": "12892978-6bed-4bb6-afd2-10507d18e172",
   "metadata": {},
   "outputs": [],
   "source": [
    "del dataset['Код_ученика']"
   ]
  },
  {
   "cell_type": "markdown",
   "id": "bb5a734a-22b9-4991-9aad-2e029f0570a7",
   "metadata": {},
   "source": [
    "#### Колонка \"Балл\""
   ]
  },
  {
   "cell_type": "code",
   "execution_count": 44,
   "id": "fbfe1b0a-d328-4630-aa9a-bc23bea8cf45",
   "metadata": {},
   "outputs": [
    {
     "data": {
      "text/plain": [
       "Балл\n",
       "11    559992\n",
       "14    554918\n",
       "12    532355\n",
       "7     510728\n",
       "13    504913\n",
       "       ...  \n",
       "42      1625\n",
       "0       1547\n",
       "43      1152\n",
       "44       770\n",
       "45       331\n",
       "Name: count, Length: 92, dtype: int64"
      ]
     },
     "execution_count": 44,
     "metadata": {},
     "output_type": "execute_result"
    }
   ],
   "source": [
    "dataset['Балл'].value_counts()"
   ]
  },
  {
   "cell_type": "code",
   "execution_count": 45,
   "id": "2d7d86d4-632d-4002-b61e-547c6a8261b6",
   "metadata": {},
   "outputs": [
    {
     "name": "stdout",
     "output_type": "stream",
     "text": [
      "Пустых строк = 0\n"
     ]
    }
   ],
   "source": [
    "print(f'Пустых строк = {sum(dataset['Балл'].isna())}')"
   ]
  },
  {
   "cell_type": "code",
   "execution_count": 46,
   "id": "e588da7b-b74e-4fe2-a40d-2d6a765d936c",
   "metadata": {},
   "outputs": [
    {
     "name": "stderr",
     "output_type": "stream",
     "text": [
      "C:\\Users\\isazo\\AppData\\Local\\Temp\\ipykernel_6892\\2081107328.py:1: FutureWarning: using <function <lambda> at 0x000002DB5EB428E0> in Series.agg cannot aggregate and has been deprecated. Use Series.transform to keep behavior unchanged.\n",
      "  dataset['Балл'] = dataset['Балл'].agg(lambda x: int(x))\n"
     ]
    }
   ],
   "source": [
    "dataset['Балл'] = dataset['Балл'].agg(lambda x: int(x))"
   ]
  },
  {
   "cell_type": "code",
   "execution_count": 47,
   "id": "4308da9b-ea14-4303-b151-51d050307e19",
   "metadata": {},
   "outputs": [
    {
     "data": {
      "text/plain": [
       "<Axes: >"
      ]
     },
     "execution_count": 47,
     "metadata": {},
     "output_type": "execute_result"
    },
    {
     "data": {
      "image/png": "[encoded data removed]",
      "text/plain": [
       "<Figure size 640x480 with 1 Axes>"
      ]
     },
     "metadata": {},
     "output_type": "display_data"
    }
   ],
   "source": [
    "dataset['Балл'].hist()"
   ]
  },
  {
   "cell_type": "markdown",
   "id": "8e8eefe9-3b33-4f7f-9101-93cdf3aad3a3",
   "metadata": {},
   "source": [
    "##### Признак Балл является действительным. Потому преведем его к размерности 0 - 1\n"
   ]
  },
  {
   "cell_type": "code",
   "execution_count": 49,
   "id": "23d64b66-a6d5-46dc-99be-e777dd80afc9",
   "metadata": {},
   "outputs": [],
   "source": [
    "scaler = MinMaxScaler()\n",
    "scaler.fit(np.array(dataset['Балл']).reshape(-1, 1))\n",
    "dataset['Балл_scal'] = scaler.transform(np.array(dataset['Балл']).reshape(-1, 1))"
   ]
  },
  {
   "cell_type": "code",
   "execution_count": 50,
   "id": "8549cabf-c82e-435f-baf6-c95a707afae6",
   "metadata": {},
   "outputs": [
    {
     "data": {
      "text/html": [
       "<div>\n",
       "<style scoped>\n",
       "    .dataframe tbody tr th:only-of-type {\n",
       "        vertical-align: middle;\n",
       "    }\n",
       "\n",
       "    .dataframe tbody tr th {\n",
       "        vertical-align: top;\n",
       "    }\n",
       "\n",
       "    .dataframe thead th {\n",
       "        text-align: right;\n",
       "    }\n",
       "</style>\n",
       "<table border=\"1\" class=\"dataframe\">\n",
       "  <thead>\n",
       "    <tr style=\"text-align: right;\">\n",
       "      <th></th>\n",
       "      <th>Класс</th>\n",
       "      <th>ЛогинОО</th>\n",
       "      <th>Балл</th>\n",
       "      <th>Отметка</th>\n",
       "      <th>Year</th>\n",
       "      <th>РУ</th>\n",
       "      <th>МА</th>\n",
       "      <th>01</th>\n",
       "      <th>02</th>\n",
       "      <th>03</th>\n",
       "      <th>...</th>\n",
       "      <th>78</th>\n",
       "      <th>79</th>\n",
       "      <th>82</th>\n",
       "      <th>83</th>\n",
       "      <th>86</th>\n",
       "      <th>87</th>\n",
       "      <th>89</th>\n",
       "      <th>90</th>\n",
       "      <th>92</th>\n",
       "      <th>Балл_scal</th>\n",
       "    </tr>\n",
       "  </thead>\n",
       "  <tbody>\n",
       "    <tr>\n",
       "      <th>0</th>\n",
       "      <td>4</td>\n",
       "      <td>sch01110001</td>\n",
       "      <td>11</td>\n",
       "      <td>4</td>\n",
       "      <td>2019</td>\n",
       "      <td>0</td>\n",
       "      <td>1</td>\n",
       "      <td>1</td>\n",
       "      <td>0</td>\n",
       "      <td>0</td>\n",
       "      <td>...</td>\n",
       "      <td>0</td>\n",
       "      <td>0</td>\n",
       "      <td>0</td>\n",
       "      <td>0</td>\n",
       "      <td>0</td>\n",
       "      <td>0</td>\n",
       "      <td>0</td>\n",
       "      <td>0</td>\n",
       "      <td>0</td>\n",
       "      <td>0.244444</td>\n",
       "    </tr>\n",
       "    <tr>\n",
       "      <th>1</th>\n",
       "      <td>4</td>\n",
       "      <td>sch01110001</td>\n",
       "      <td>18</td>\n",
       "      <td>5</td>\n",
       "      <td>2019</td>\n",
       "      <td>0</td>\n",
       "      <td>1</td>\n",
       "      <td>1</td>\n",
       "      <td>0</td>\n",
       "      <td>0</td>\n",
       "      <td>...</td>\n",
       "      <td>0</td>\n",
       "      <td>0</td>\n",
       "      <td>0</td>\n",
       "      <td>0</td>\n",
       "      <td>0</td>\n",
       "      <td>0</td>\n",
       "      <td>0</td>\n",
       "      <td>0</td>\n",
       "      <td>0</td>\n",
       "      <td>0.400000</td>\n",
       "    </tr>\n",
       "    <tr>\n",
       "      <th>2</th>\n",
       "      <td>4</td>\n",
       "      <td>sch01110001</td>\n",
       "      <td>9</td>\n",
       "      <td>3</td>\n",
       "      <td>2019</td>\n",
       "      <td>0</td>\n",
       "      <td>1</td>\n",
       "      <td>1</td>\n",
       "      <td>0</td>\n",
       "      <td>0</td>\n",
       "      <td>...</td>\n",
       "      <td>0</td>\n",
       "      <td>0</td>\n",
       "      <td>0</td>\n",
       "      <td>0</td>\n",
       "      <td>0</td>\n",
       "      <td>0</td>\n",
       "      <td>0</td>\n",
       "      <td>0</td>\n",
       "      <td>0</td>\n",
       "      <td>0.200000</td>\n",
       "    </tr>\n",
       "    <tr>\n",
       "      <th>3</th>\n",
       "      <td>4</td>\n",
       "      <td>sch01110001</td>\n",
       "      <td>11</td>\n",
       "      <td>4</td>\n",
       "      <td>2019</td>\n",
       "      <td>0</td>\n",
       "      <td>1</td>\n",
       "      <td>1</td>\n",
       "      <td>0</td>\n",
       "      <td>0</td>\n",
       "      <td>...</td>\n",
       "      <td>0</td>\n",
       "      <td>0</td>\n",
       "      <td>0</td>\n",
       "      <td>0</td>\n",
       "      <td>0</td>\n",
       "      <td>0</td>\n",
       "      <td>0</td>\n",
       "      <td>0</td>\n",
       "      <td>0</td>\n",
       "      <td>0.244444</td>\n",
       "    </tr>\n",
       "    <tr>\n",
       "      <th>4</th>\n",
       "      <td>4</td>\n",
       "      <td>sch01110001</td>\n",
       "      <td>8</td>\n",
       "      <td>3</td>\n",
       "      <td>2019</td>\n",
       "      <td>0</td>\n",
       "      <td>1</td>\n",
       "      <td>1</td>\n",
       "      <td>0</td>\n",
       "      <td>0</td>\n",
       "      <td>...</td>\n",
       "      <td>0</td>\n",
       "      <td>0</td>\n",
       "      <td>0</td>\n",
       "      <td>0</td>\n",
       "      <td>0</td>\n",
       "      <td>0</td>\n",
       "      <td>0</td>\n",
       "      <td>0</td>\n",
       "      <td>0</td>\n",
       "      <td>0.177778</td>\n",
       "    </tr>\n",
       "    <tr>\n",
       "      <th>...</th>\n",
       "      <td>...</td>\n",
       "      <td>...</td>\n",
       "      <td>...</td>\n",
       "      <td>...</td>\n",
       "      <td>...</td>\n",
       "      <td>...</td>\n",
       "      <td>...</td>\n",
       "      <td>...</td>\n",
       "      <td>...</td>\n",
       "      <td>...</td>\n",
       "      <td>...</td>\n",
       "      <td>...</td>\n",
       "      <td>...</td>\n",
       "      <td>...</td>\n",
       "      <td>...</td>\n",
       "      <td>...</td>\n",
       "      <td>...</td>\n",
       "      <td>...</td>\n",
       "      <td>...</td>\n",
       "      <td>...</td>\n",
       "      <td>...</td>\n",
       "    </tr>\n",
       "    <tr>\n",
       "      <th>11221344</th>\n",
       "      <td>5</td>\n",
       "      <td>sch87176023</td>\n",
       "      <td>10</td>\n",
       "      <td>2</td>\n",
       "      <td>2020</td>\n",
       "      <td>1</td>\n",
       "      <td>0</td>\n",
       "      <td>0</td>\n",
       "      <td>0</td>\n",
       "      <td>0</td>\n",
       "      <td>...</td>\n",
       "      <td>0</td>\n",
       "      <td>0</td>\n",
       "      <td>0</td>\n",
       "      <td>0</td>\n",
       "      <td>0</td>\n",
       "      <td>1</td>\n",
       "      <td>0</td>\n",
       "      <td>0</td>\n",
       "      <td>0</td>\n",
       "      <td>0.222222</td>\n",
       "    </tr>\n",
       "    <tr>\n",
       "      <th>11221345</th>\n",
       "      <td>5</td>\n",
       "      <td>sch87176023</td>\n",
       "      <td>21</td>\n",
       "      <td>3</td>\n",
       "      <td>2020</td>\n",
       "      <td>1</td>\n",
       "      <td>0</td>\n",
       "      <td>0</td>\n",
       "      <td>0</td>\n",
       "      <td>0</td>\n",
       "      <td>...</td>\n",
       "      <td>0</td>\n",
       "      <td>0</td>\n",
       "      <td>0</td>\n",
       "      <td>0</td>\n",
       "      <td>0</td>\n",
       "      <td>1</td>\n",
       "      <td>0</td>\n",
       "      <td>0</td>\n",
       "      <td>0</td>\n",
       "      <td>0.466667</td>\n",
       "    </tr>\n",
       "    <tr>\n",
       "      <th>11221346</th>\n",
       "      <td>5</td>\n",
       "      <td>sch87176023</td>\n",
       "      <td>21</td>\n",
       "      <td>3</td>\n",
       "      <td>2020</td>\n",
       "      <td>1</td>\n",
       "      <td>0</td>\n",
       "      <td>0</td>\n",
       "      <td>0</td>\n",
       "      <td>0</td>\n",
       "      <td>...</td>\n",
       "      <td>0</td>\n",
       "      <td>0</td>\n",
       "      <td>0</td>\n",
       "      <td>0</td>\n",
       "      <td>0</td>\n",
       "      <td>1</td>\n",
       "      <td>0</td>\n",
       "      <td>0</td>\n",
       "      <td>0</td>\n",
       "      <td>0.466667</td>\n",
       "    </tr>\n",
       "    <tr>\n",
       "      <th>11221347</th>\n",
       "      <td>5</td>\n",
       "      <td>sch87176023</td>\n",
       "      <td>21</td>\n",
       "      <td>3</td>\n",
       "      <td>2020</td>\n",
       "      <td>1</td>\n",
       "      <td>0</td>\n",
       "      <td>0</td>\n",
       "      <td>0</td>\n",
       "      <td>0</td>\n",
       "      <td>...</td>\n",
       "      <td>0</td>\n",
       "      <td>0</td>\n",
       "      <td>0</td>\n",
       "      <td>0</td>\n",
       "      <td>0</td>\n",
       "      <td>1</td>\n",
       "      <td>0</td>\n",
       "      <td>0</td>\n",
       "      <td>0</td>\n",
       "      <td>0.466667</td>\n",
       "    </tr>\n",
       "    <tr>\n",
       "      <th>11221348</th>\n",
       "      <td>5</td>\n",
       "      <td>sch87176023</td>\n",
       "      <td>31</td>\n",
       "      <td>4</td>\n",
       "      <td>2020</td>\n",
       "      <td>1</td>\n",
       "      <td>0</td>\n",
       "      <td>0</td>\n",
       "      <td>0</td>\n",
       "      <td>0</td>\n",
       "      <td>...</td>\n",
       "      <td>0</td>\n",
       "      <td>0</td>\n",
       "      <td>0</td>\n",
       "      <td>0</td>\n",
       "      <td>0</td>\n",
       "      <td>1</td>\n",
       "      <td>0</td>\n",
       "      <td>0</td>\n",
       "      <td>0</td>\n",
       "      <td>0.688889</td>\n",
       "    </tr>\n",
       "  </tbody>\n",
       "</table>\n",
       "<p>11221346 rows × 94 columns</p>\n",
       "</div>"
      ],
      "text/plain": [
       "          Класс      ЛогинОО  Балл Отметка  Year  РУ  МА  01  02  03  ...  78  \\\n",
       "0             4  sch01110001    11       4  2019   0   1   1   0   0  ...   0   \n",
       "1             4  sch01110001    18       5  2019   0   1   1   0   0  ...   0   \n",
       "2             4  sch01110001     9       3  2019   0   1   1   0   0  ...   0   \n",
       "3             4  sch01110001    11       4  2019   0   1   1   0   0  ...   0   \n",
       "4             4  sch01110001     8       3  2019   0   1   1   0   0  ...   0   \n",
       "...         ...          ...   ...     ...   ...  ..  ..  ..  ..  ..  ...  ..   \n",
       "11221344      5  sch87176023    10       2  2020   1   0   0   0   0  ...   0   \n",
       "11221345      5  sch87176023    21       3  2020   1   0   0   0   0  ...   0   \n",
       "11221346      5  sch87176023    21       3  2020   1   0   0   0   0  ...   0   \n",
       "11221347      5  sch87176023    21       3  2020   1   0   0   0   0  ...   0   \n",
       "11221348      5  sch87176023    31       4  2020   1   0   0   0   0  ...   0   \n",
       "\n",
       "          79  82  83  86  87  89  90  92  Балл_scal  \n",
       "0          0   0   0   0   0   0   0   0   0.244444  \n",
       "1          0   0   0   0   0   0   0   0   0.400000  \n",
       "2          0   0   0   0   0   0   0   0   0.200000  \n",
       "3          0   0   0   0   0   0   0   0   0.244444  \n",
       "4          0   0   0   0   0   0   0   0   0.177778  \n",
       "...       ..  ..  ..  ..  ..  ..  ..  ..        ...  \n",
       "11221344   0   0   0   0   1   0   0   0   0.222222  \n",
       "11221345   0   0   0   0   1   0   0   0   0.466667  \n",
       "11221346   0   0   0   0   1   0   0   0   0.466667  \n",
       "11221347   0   0   0   0   1   0   0   0   0.466667  \n",
       "11221348   0   0   0   0   1   0   0   0   0.688889  \n",
       "\n",
       "[11221346 rows x 94 columns]"
      ]
     },
     "execution_count": 50,
     "metadata": {},
     "output_type": "execute_result"
    }
   ],
   "source": [
    "dataset"
   ]
  },
  {
   "cell_type": "markdown",
   "id": "330e252e-c320-44df-946a-8d5af19325bf",
   "metadata": {},
   "source": [
    "#### Колонка \"Отметка\""
   ]
  },
  {
   "cell_type": "code",
   "execution_count": 52,
   "id": "706d5300-a4e6-4457-86a3-9addb2e18c1d",
   "metadata": {},
   "outputs": [
    {
     "data": {
      "text/plain": [
       "Отметка\n",
       "4    4075350\n",
       "3    3326526\n",
       "5    2038790\n",
       "2    1145613\n",
       "0     241854\n",
       "3     144360\n",
       "4     137158\n",
       "2      54674\n",
       "5      51899\n",
       "0       5122\n",
       "Name: count, dtype: int64"
      ]
     },
     "execution_count": 52,
     "metadata": {},
     "output_type": "execute_result"
    }
   ],
   "source": [
    "dataset['Отметка'].value_counts()"
   ]
  },
  {
   "cell_type": "code",
   "execution_count": 53,
   "id": "b88b3f58-9101-40bb-850d-f7cb0e05245e",
   "metadata": {},
   "outputs": [
    {
     "name": "stdout",
     "output_type": "stream",
     "text": [
      "Пустых строк = 0\n"
     ]
    }
   ],
   "source": [
    "print(f'Пустых строк = {sum(dataset['Отметка'].isna())}')"
   ]
  },
  {
   "cell_type": "code",
   "execution_count": 54,
   "id": "e50cea76-bca7-4755-adde-000be6985525",
   "metadata": {},
   "outputs": [
    {
     "name": "stderr",
     "output_type": "stream",
     "text": [
      "C:\\Users\\isazo\\AppData\\Local\\Temp\\ipykernel_6892\\1772523049.py:1: FutureWarning: using <function <lambda> at 0x000002DB00DF6480> in Series.agg cannot aggregate and has been deprecated. Use Series.transform to keep behavior unchanged.\n",
      "  dataset['Отметка'] = dataset['Отметка'].agg(lambda x: int(x))\n"
     ]
    }
   ],
   "source": [
    "dataset['Отметка'] = dataset['Отметка'].agg(lambda x: int(x))"
   ]
  },
  {
   "cell_type": "code",
   "execution_count": 55,
   "id": "5062326f-1418-44f6-9d19-d52b3092ae96",
   "metadata": {},
   "outputs": [
    {
     "data": {
      "text/plain": [
       "<Axes: >"
      ]
     },
     "execution_count": 55,
     "metadata": {},
     "output_type": "execute_result"
    },
    {
     "data": {
      "image/png": "[encoded data removed]",
      "text/plain": [
       "<Figure size 640x480 with 1 Axes>"
      ]
     },
     "metadata": {},
     "output_type": "display_data"
    }
   ],
   "source": [
    "dataset['Отметка'].hist()"
   ]
  },
  {
   "cell_type": "markdown",
   "id": "673089bf-0c25-4133-a5af-d8db3f59b37f",
   "metadata": {},
   "source": [
    "##### Признак является порядковым, потому one-hot-encoding не нужен"
   ]
  },
  {
   "cell_type": "markdown",
   "id": "53e9445e-577d-4431-8d99-5685c9f44c7c",
   "metadata": {},
   "source": [
    "#### Колонка \"Year\""
   ]
  },
  {
   "cell_type": "code",
   "execution_count": 58,
   "id": "f036e0e3-a5af-47cd-95a2-3b585585a392",
   "metadata": {},
   "outputs": [
    {
     "data": {
      "text/plain": [
       "Year\n",
       "2019    5914467\n",
       "2020    5306879\n",
       "Name: count, dtype: int64"
      ]
     },
     "execution_count": 58,
     "metadata": {},
     "output_type": "execute_result"
    }
   ],
   "source": [
    "dataset['Year'].value_counts()"
   ]
  },
  {
   "cell_type": "code",
   "execution_count": 59,
   "id": "124824b9-9459-497f-bf58-6d57a5a83a9a",
   "metadata": {},
   "outputs": [
    {
     "name": "stdout",
     "output_type": "stream",
     "text": [
      "Пустых строк = 0\n"
     ]
    }
   ],
   "source": [
    "print(f'Пустых строк = {sum(dataset['Year'].isna())}')"
   ]
  },
  {
   "cell_type": "code",
   "execution_count": 60,
   "id": "81c67b30-cd7d-49f7-bb36-3eaf02ec9fa3",
   "metadata": {},
   "outputs": [
    {
     "name": "stderr",
     "output_type": "stream",
     "text": [
      "C:\\Users\\isazo\\AppData\\Local\\Temp\\ipykernel_6892\\2039020181.py:1: FutureWarning: using <function <lambda> at 0x000002DB00E75E40> in Series.agg cannot aggregate and has been deprecated. Use Series.transform to keep behavior unchanged.\n",
      "  dataset['Year'] = dataset['Year'].agg(lambda x: int(x))\n"
     ]
    }
   ],
   "source": [
    "dataset['Year'] = dataset['Year'].agg(lambda x: int(x))"
   ]
  },
  {
   "cell_type": "code",
   "execution_count": 61,
   "id": "de783a91-e98e-4157-96be-507ff6eb39fb",
   "metadata": {},
   "outputs": [
    {
     "data": {
      "text/plain": [
       "<Axes: >"
      ]
     },
     "execution_count": 61,
     "metadata": {},
     "output_type": "execute_result"
    },
    {
     "data": {
      "image/png": "[encoded data removed]",
      "text/plain": [
       "<Figure size 640x480 with 1 Axes>"
      ]
     },
     "metadata": {},
     "output_type": "display_data"
    }
   ],
   "source": [
    "dataset['Year'].hist()"
   ]
  },
  {
   "cell_type": "markdown",
   "id": "1d99119c-d076-480b-8dd9-6fd0a8c97587",
   "metadata": {},
   "source": [
    "##### Признак является порядковым, потому one-hot-encoding не нужен"
   ]
  },
  {
   "cell_type": "code",
   "execution_count": null,
   "id": "a38358f2-7e78-4464-9ac8-405537715a6b",
   "metadata": {},
   "outputs": [],
   "source": []
  },
  {
   "cell_type": "code",
   "execution_count": 72,
   "id": "a6b43bf7-6143-4f46-b853-cc868a7fdd7c",
   "metadata": {},
   "outputs": [],
   "source": [
    "dataset.to_csv('new_dataset.csv', index=False)"
   ]
  },
  {
   "cell_type": "code",
   "execution_count": 80,
   "id": "fc1b691b-ece6-4e10-80c5-fc27934de36b",
   "metadata": {},
   "outputs": [],
   "source": [
    "names_for_clusterization = list(dataset.drop(['ЛогинОО', 'Балл'], axis=1).columns)\n",
    "other_names = ['ЛогинОО', 'Балл']"
   ]
  },
  {
   "cell_type": "markdown",
   "id": "5ce4a933-0293-4220-b244-44ff8938ff8f",
   "metadata": {},
   "source": [
    "#### Кластеризация \n",
    "#### Будем проверять гипотезы для альфа 0.001, 0.01, 0.05, 0.1, 0.2"
   ]
  },
  {
   "cell_type": "markdown",
   "id": "c4aad060-2deb-436b-93c7-05fc6da3d31a",
   "metadata": {},
   "source": [
    "##### Случайное создание подвыборки"
   ]
  },
  {
   "cell_type": "code",
   "execution_count": 83,
   "id": "c0032ec9-a43d-4c6e-9adb-0e97d4c47cda",
   "metadata": {},
   "outputs": [],
   "source": [
    "# Создание случайной выборки размера alpha*n, где n- размер сета \n",
    "def get_random_samples(alpha, scores):\n",
    "    \n",
    "    return random.sample(scores,int(len(scores)*alpha))\n",
    "\n"
   ]
  },
  {
   "cell_type": "code",
   "execution_count": 89,
   "id": "2665f595-3978-4f91-922e-a486d30311fa",
   "metadata": {},
   "outputs": [],
   "source": [
    "# Если pvalue меньше 0.05, то распределения разные \n",
    "def get_pvalues_and_metrics(f, alpha,  n = 100):\n",
    "\n",
    "    pvalues, d_means, d_stds, d_medians = [], [], [], [] \n",
    "    scores = list(np.array(dataset['Балл']))\n",
    "    score_mean, score_stds, score_medians = np.mean(scores), np.std(scores), np.median(scores)\n",
    "    for i in range(n):\n",
    "        sample = f(alpha, scores)\n",
    "\n",
    "        pvalues.append(stats.kstest(scores,sample)[1])\n",
    "        d_means.append(np.mean(scores) - np.mean(sample))\n",
    "        d_stds.append(np.std(scores) - np.std(sample))\n",
    "        d_medians.append(np.median(scores) - np.median(sample))\n",
    "\n",
    "\n",
    "    return np.mean(pvalues), np.mean(d_means), np.mean(d_stds), np.mean(d_medians)"
   ]
  },
  {
   "cell_type": "code",
   "execution_count": 91,
   "id": "78cb1abc-56b6-42c8-a28a-a7bc21dd5184",
   "metadata": {},
   "outputs": [
    {
     "name": "stderr",
     "output_type": "stream",
     "text": [
      "\n",
      "KeyboardInterrupt\n",
      "\n"
     ]
    }
   ],
   "source": [
    "get_pvalues_and_metrics(get_random_samples, 0.001)"
   ]
  },
  {
   "cell_type": "code",
   "execution_count": null,
   "id": "15f1d91e-03a6-46fe-b34f-58c70280b377",
   "metadata": {},
   "outputs": [],
   "source": [
    "get_pvalues_and_metrics(get_random_samples, 0.01)"
   ]
  },
  {
   "cell_type": "code",
   "execution_count": null,
   "id": "431fbb43-7c82-447d-aca6-9f13b555d6a6",
   "metadata": {},
   "outputs": [],
   "source": [
    "get_pvalues_and_metrics(get_random_samples, 0.05)"
   ]
  },
  {
   "cell_type": "code",
   "execution_count": null,
   "id": "67ecaf80-600c-433f-a681-31620f9c8728",
   "metadata": {},
   "outputs": [],
   "source": [
    "get_pvalues_and_metrics(get_random_samples, 0.1)"
   ]
  },
  {
   "cell_type": "code",
   "execution_count": null,
   "id": "c790c941-f321-4a6e-9350-fa6a0ed9f754",
   "metadata": {},
   "outputs": [],
   "source": [
    "get_pvalues_and_metrics(get_random_samples, 0.2)"
   ]
  },
  {
   "cell_type": "code",
   "execution_count": null,
   "id": "f46255a7-31d3-4955-81da-03fd55c736ad",
   "metadata": {},
   "outputs": [],
   "source": []
  },
  {
   "cell_type": "code",
   "execution_count": null,
   "id": "c7a18771-b61b-4659-b14b-5eb874e3745f",
   "metadata": {},
   "outputs": [],
   "source": []
  }
 ],
 "metadata": {
  "kernelspec": {
   "display_name": "Python [conda env:base] *",
   "language": "python",
   "name": "conda-base-py"
  },
  "language_info": {
   "codemirror_mode": {
    "name": "ipython",
    "version": 3
   },
   "file_extension": ".py",
   "mimetype": "text/x-python",
   "name": "python",
   "nbconvert_exporter": "python",
   "pygments_lexer": "ipython3",
   "version": "3.12.7"
  }
 },
 "nbformat": 4,
 "nbformat_minor": 5
}
